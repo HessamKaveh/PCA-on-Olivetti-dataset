{
  "cells": [
    {
      "cell_type": "code",
      "execution_count": 1,
      "metadata": {
        "id": "0rkhJpS38cyi"
      },
      "outputs": [],
      "source": [
        "import numpy as np\n",
        "from sklearn.datasets import fetch_olivetti_faces\n",
        "import pandas as pd\n",
        "import plotly.express as px"
      ]
    },
    {
      "cell_type": "code",
      "execution_count": 2,
      "metadata": {
        "id": "tDq8YQV68cy1"
      },
      "outputs": [],
      "source": [
        "class PCA:\n",
        "    def __init__(self,n_components):\n",
        "        self.n_components = n_components\n",
        "\n",
        "    def fit(self,X):\n",
        "        self.X_copy = X.copy().astype('float32')\n",
        "        # do standardize the data\n",
        "        self.mean_ = np.mean(self.X_copy, axis=0)\n",
        "        self.std_ = np.std(self.X_copy, axis=0)\n",
        "        self.X_copy -= self.mean_\n",
        "        self.X_copy /= self.std_\n",
        "        # calculate the covariance matrix and the eigen values/vectors\n",
        "        cov_mat = np.cov(self.X_copy.T)    \n",
        "        eigen_values, eigen_vectors = np.linalg.eigh(cov_mat)\n",
        "        sorted_index = np.argsort(eigen_values)[::-1]\n",
        "        self.sorted_eigenvalue_ = np.real(eigen_values[sorted_index])\n",
        "        self.sorted_eigenvectors_ = np.real(eigen_vectors[:,sorted_index])\n",
        "        self.explained_variance_ = self.sorted_eigenvalue_[0:self.n_components]\n",
        "        total_var = self.sorted_eigenvalue_.sum()\n",
        "        self.explained_variance_ratio_ = self.explained_variance_ / total_var\n",
        "        self.cum_var_explained = np.cumsum(self.explained_variance_ratio_)\n",
        "\n",
        "        self.projection_matrix_ = self.sorted_eigenvectors_[:,0:self.n_components]\n",
        "        \n",
        "    def transform(self,X,y):\n",
        "        self.components_ = np.dot(self.X_copy,self.projection_matrix_)\n",
        "        self.df = pd.DataFrame(data=self.components_, columns=['PC{}'.format(i+1) for i in range(self.n_components)])\n",
        "        self.df['label'] = y\n",
        "        return self.components_\n",
        "    \n",
        "    def fit_transform(self,X,y):\n",
        "        self.fit(X)\n",
        "        self.components_ = np.dot(self.X_copy,self.projection_matrix_)\n",
        "        self.df = pd.DataFrame(data=self.components_, columns=['PC{}'.format(i+1) for i in range(self.n_components)])\n",
        "        self.df['label'] = y\n",
        "        return self.components_\n",
        "\n",
        "    def pca_plot2d(self):\n",
        "        fig = px.scatter(self.components_, x=0, y=1, color=self.df.label,labels={'0': 'PC 1', '1': 'PC 2'})\n",
        "        fig.show()\n",
        "\n",
        "    def pca_plot3d(self):\n",
        "        fig = px.scatter_3d(self.components_, x=0, y=1,z=2, color=self.df.label,labels={'0': 'PC 1', '1': 'PC 2'})\n",
        "        fig.show()    "
      ]
    },
    {
      "cell_type": "markdown",
      "metadata": {
        "id": "mobDO_b88cy7"
      },
      "source": [
        "# Load the dataset"
      ]
    },
    {
      "cell_type": "code",
      "execution_count": 3,
      "metadata": {
        "colab": {
          "base_uri": "https://localhost:8080/",
          "height": 0
        },
        "id": "pxXXwGtS8czE",
        "outputId": "92f6cd7e-2412-4ca2-8ffc-49a63630bac7"
      },
      "outputs": [
        {
          "output_type": "stream",
          "name": "stdout",
          "text": [
            "downloading Olivetti faces from https://ndownloader.figshare.com/files/5976027 to /root/scikit_learn_data\n",
            "Dataset consists of 400 64x64 faces\n",
            "No. of classes: 40\n"
          ]
        }
      ],
      "source": [
        "ds = fetch_olivetti_faces()\n",
        "faces = ds.data\n",
        "images = ds.images\n",
        "\n",
        "n_samples, width, height = images.shape\n",
        "print(\"Dataset consists of {n} {w}x{h} faces\".format(n=n_samples, w=width, h=height))\n",
        "print('No. of classes:', np.unique( ds.target ).shape[0])"
      ]
    },
    {
      "cell_type": "markdown",
      "metadata": {
        "id": "XZHmk66Q8czK"
      },
      "source": [
        "# Perform PCA on the dataset with several various n_components"
      ]
    },
    {
      "cell_type": "code",
      "execution_count": 4,
      "metadata": {
        "colab": {
          "base_uri": "https://localhost:8080/",
          "height": 0
        },
        "id": "250enRYf8czM",
        "outputId": "e872e0ae-33e2-42c9-fedc-d48e4c5b570f"
      },
      "outputs": [
        {
          "output_type": "stream",
          "name": "stdout",
          "text": [
            "1 components --> 26.876448450582625 % cumulated variance explained\n",
            "2 components --> 39.21882497740198 % cumulated variance explained\n",
            "3 components --> 47.06023056770136 % cumulated variance explained\n",
            "4 components --> 51.74882275588478 % cumulated variance explained\n",
            "5 components --> 54.99503747433475 % cumulated variance explained\n",
            "6 components --> 58.09581303661807 % cumulated variance explained\n",
            "7 components --> 60.47964671593461 % cumulated variance explained\n",
            "8 components --> 62.55136865343698 % cumulated variance explained\n",
            "9 components --> 64.40923101777196 % cumulated variance explained\n",
            "10 components --> 66.05543897724819 % cumulated variance explained\n",
            "11 components --> 67.58959022807343 % cumulated variance explained\n",
            "12 components --> 68.94327769271847 % cumulated variance explained\n",
            "13 components --> 70.17684114720637 % cumulated variance explained\n",
            "14 components --> 71.32076189731364 % cumulated variance explained\n",
            "15 components --> 72.41513376745064 % cumulated variance explained\n",
            "16 components --> 73.37332115983996 % cumulated variance explained\n",
            "17 components --> 74.24027702804914 % cumulated variance explained\n",
            "18 components --> 75.03368605101402 % cumulated variance explained\n",
            "19 components --> 75.79299521644822 % cumulated variance explained\n",
            "20 components --> 76.51221256509007 % cumulated variance explained\n",
            "21 components --> 77.18595082017187 % cumulated variance explained\n",
            "22 components --> 77.83676914194143 % cumulated variance explained\n",
            "23 components --> 78.43098762262211 % cumulated variance explained\n",
            "24 components --> 78.98477075384065 % cumulated variance explained\n",
            "25 components --> 79.52195925508796 % cumulated variance explained\n",
            "26 components --> 80.03500491999114 % cumulated variance explained\n",
            "27 components --> 80.53144268116895 % cumulated variance explained\n",
            "28 components --> 81.00439057702914 % cumulated variance explained\n",
            "29 components --> 81.42539873676681 % cumulated variance explained\n",
            "30 components --> 81.8368648988823 % cumulated variance explained\n",
            "31 components --> 82.23101539890362 % cumulated variance explained\n",
            "32 components --> 82.60128594711954 % cumulated variance explained\n",
            "33 components --> 82.96580323934471 % cumulated variance explained\n",
            "34 components --> 83.30051735796508 % cumulated variance explained\n",
            "35 components --> 83.62916848793395 % cumulated variance explained\n",
            "36 components --> 83.94794978035144 % cumulated variance explained\n",
            "37 components --> 84.2560442391892 % cumulated variance explained\n",
            "38 components --> 84.54683822104656 % cumulated variance explained\n",
            "39 components --> 84.83169506737423 % cumulated variance explained\n",
            "40 components --> 85.09938525263058 % cumulated variance explained\n",
            "41 components --> 85.36047827983634 % cumulated variance explained\n",
            "42 components --> 85.61271257196377 % cumulated variance explained\n",
            "43 components --> 85.85953250651473 % cumulated variance explained\n",
            "44 components --> 86.10476072089774 % cumulated variance explained\n",
            "45 components --> 86.33780650670438 % cumulated variance explained\n",
            "46 components --> 86.56899192044263 % cumulated variance explained\n",
            "47 components --> 86.79164062379601 % cumulated variance explained\n",
            "48 components --> 87.01199058574502 % cumulated variance explained\n",
            "49 components --> 87.21980797215268 % cumulated variance explained\n",
            "50 components --> 87.42573705599958 % cumulated variance explained\n",
            "51 components --> 87.62834891631205 % cumulated variance explained\n",
            "52 components --> 87.82347371143354 % cumulated variance explained\n",
            "53 components --> 88.0134359181042 % cumulated variance explained\n",
            "54 components --> 88.19848680260748 % cumulated variance explained\n",
            "55 components --> 88.37832810746109 % cumulated variance explained\n",
            "56 components --> 88.55189214891399 % cumulated variance explained\n",
            "57 components --> 88.71957886441176 % cumulated variance explained\n",
            "58 components --> 88.88455240167865 % cumulated variance explained\n",
            "59 components --> 89.04363668779048 % cumulated variance explained\n",
            "60 components --> 89.20070306338643 % cumulated variance explained\n",
            "61 components --> 89.35661334793151 % cumulated variance explained\n",
            "62 components --> 89.5073908535286 % cumulated variance explained\n",
            "63 components --> 89.65568391729389 % cumulated variance explained\n",
            "64 components --> 89.8004721931258 % cumulated variance explained\n",
            "65 components --> 89.94238119944487 % cumulated variance explained\n",
            "66 components --> 90.08180854435834 % cumulated variance explained\n",
            "67 components --> 90.22010654511423 % cumulated variance explained\n",
            "68 components --> 90.3529947875269 % cumulated variance explained\n",
            "69 components --> 90.48494108355773 % cumulated variance explained\n",
            "70 components --> 90.6136295138516 % cumulated variance explained\n",
            "71 components --> 90.74029888167318 % cumulated variance explained\n",
            "72 components --> 90.86642677298843 % cumulated variance explained\n",
            "73 components --> 90.98770620983493 % cumulated variance explained\n",
            "74 components --> 91.1080597325089 % cumulated variance explained\n",
            "75 components --> 91.22384384590251 % cumulated variance explained\n",
            "76 components --> 91.3387960485348 % cumulated variance explained\n",
            "77 components --> 91.45284685241492 % cumulated variance explained\n",
            "78 components --> 91.56206301451614 % cumulated variance explained\n",
            "79 components --> 91.66931857466156 % cumulated variance explained\n",
            "80 components --> 91.77570572530068 % cumulated variance explained\n",
            "81 components --> 91.88100200467461 % cumulated variance explained\n",
            "82 components --> 91.98539511929741 % cumulated variance explained\n",
            "83 components --> 92.08716060754924 % cumulated variance explained\n",
            "84 components --> 92.18521975413564 % cumulated variance explained\n",
            "85 components --> 92.28213474339869 % cumulated variance explained\n",
            "86 components --> 92.37712957600746 % cumulated variance explained\n",
            "87 components --> 92.47139662761295 % cumulated variance explained\n",
            "88 components --> 92.56245447742309 % cumulated variance explained\n",
            "89 components --> 92.65309987124073 % cumulated variance explained\n",
            "90 components --> 92.74322149769925 % cumulated variance explained\n",
            "91 components --> 92.83195301678265 % cumulated variance explained\n",
            "92 components --> 92.91799996272614 % cumulated variance explained\n",
            "93 components --> 93.00309372914923 % cumulated variance explained\n",
            "94 components --> 93.08688295554023 % cumulated variance explained\n",
            "95 components --> 93.17001085302557 % cumulated variance explained\n",
            "96 components --> 93.25150732925465 % cumulated variance explained\n",
            "97 components --> 93.33243322994566 % cumulated variance explained\n",
            "98 components --> 93.41082075020898 % cumulated variance explained\n",
            "99 components --> 93.48782753958453 % cumulated variance explained\n"
          ]
        }
      ],
      "source": [
        "list_components= range(1,100)\n",
        "for c in list_components:\n",
        "  pca = PCA(n_components=c)\n",
        "  components = pca.fit_transform(faces, ds.target)\n",
        "  total_var = pca.explained_variance_ratio_.sum() * 100\n",
        "  print('{} components --> {} % cumulated variance explained'.format(c,total_var))"
      ]
    },
    {
      "cell_type": "markdown",
      "metadata": {
        "id": "bjnFOCXK8czP"
      },
      "source": [
        "# Plot the cumulated variance vs. n_component"
      ]
    },
    {
      "cell_type": "code",
      "execution_count": 5,
      "metadata": {
        "colab": {
          "base_uri": "https://localhost:8080/",
          "height": 542
        },
        "id": "PE0wflOu8czR",
        "outputId": "360337e1-9ec8-4d86-d248-692718b10a93"
      },
      "outputs": [
        {
          "output_type": "display_data",
          "data": {
            "text/html": [
              "<html>\n",
              "<head><meta charset=\"utf-8\" /></head>\n",
              "<body>\n",
              "    <div>            <script src=\"https://cdnjs.cloudflare.com/ajax/libs/mathjax/2.7.5/MathJax.js?config=TeX-AMS-MML_SVG\"></script><script type=\"text/javascript\">if (window.MathJax) {MathJax.Hub.Config({SVG: {font: \"STIX-Web\"}});}</script>                <script type=\"text/javascript\">window.PlotlyConfig = {MathJaxConfig: 'local'};</script>\n",
              "        <script src=\"https://cdn.plot.ly/plotly-2.8.3.min.js\"></script>                <div id=\"7e96f9b1-8420-41e4-9cf4-7cb962310826\" class=\"plotly-graph-div\" style=\"height:525px; width:100%;\"></div>            <script type=\"text/javascript\">                                    window.PLOTLYENV=window.PLOTLYENV || {};                                    if (document.getElementById(\"7e96f9b1-8420-41e4-9cf4-7cb962310826\")) {                    Plotly.newPlot(                        \"7e96f9b1-8420-41e4-9cf4-7cb962310826\",                        [{\"hovertemplate\":\"# Components=%{x}<br>Explained Variance=%{y}<extra></extra>\",\"legendgroup\":\"\",\"line\":{\"color\":\"#636efa\"},\"marker\":{\"symbol\":\"circle\"},\"mode\":\"lines\",\"name\":\"\",\"orientation\":\"v\",\"showlegend\":false,\"stackgroup\":\"1\",\"x\":[1,2,3,4,5,6,7,8,9,10,11,12,13,14,15,16,17,18,19,20,21,22,23,24,25,26,27,28,29,30,31,32,33,34,35,36,37,38,39,40,41,42,43,44,45,46,47,48,49,50,51,52,53,54,55,56,57,58,59,60,61,62,63,64,65,66,67,68,69,70,71,72,73,74,75,76,77,78,79,80,81,82,83,84,85,86,87,88,89,90,91,92,93,94,95,96,97,98,99,100],\"xaxis\":\"x\",\"y\":[0.26876448450582624,0.3921882497740198,0.4706023056770136,0.5174882275588478,0.5499503747433475,0.5809581303661807,0.6047964671593461,0.6255136865343699,0.6440923101777197,0.6605543897724819,0.6758959022807344,0.6894327769271846,0.7017684114720638,0.7132076189731364,0.7241513376745065,0.7337332115983994,0.7424027702804912,0.7503368605101399,0.757929952164482,0.7651221256509004,0.7718595082017184,0.7783676914194141,0.7843098762262208,0.7898477075384063,0.7952195925508794,0.8003500491999112,0.8053144268116893,0.8100439057702912,0.8142539873676679,0.8183686489888228,0.8223101539890361,0.8260128594711951,0.8296580323934467,0.8330051735796504,0.8362916848793392,0.839479497803514,0.8425604423918915,0.8454683822104653,0.8483169506737419,0.8509938525263057,0.8536047827983634,0.8561271257196376,0.8585953250651471,0.8610476072089773,0.8633780650670437,0.8656899192044262,0.86791640623796,0.8701199058574499,0.8721980797215264,0.8742573705599954,0.8762834891631202,0.8782347371143351,0.8801343591810415,0.8819848680260745,0.8837832810746106,0.8855189214891397,0.8871957886441173,0.8888455240167862,0.8904363668779046,0.892007030633864,0.8935661334793149,0.8950739085352858,0.8965568391729386,0.8980047219312578,0.8994238119944484,0.9008180854435832,0.9022010654511421,0.9035299478752687,0.904849410835577,0.9061362951385158,0.9074029888167316,0.9086642677298838,0.9098770620983488,0.9110805973250886,0.9122384384590246,0.9133879604853475,0.9145284685241487,0.9156206301451609,0.9166931857466152,0.9177570572530064,0.9188100200467457,0.9198539511929736,0.9208716060754919,0.9218521975413559,0.9228213474339864,0.9237712957600741,0.924713966276129,0.9256245447742304,0.9265309987124067,0.927432214976992,0.9283195301678259,0.9291799996272608,0.9300309372914917,0.9308688295554017,0.9317001085302552,0.9325150732925459,0.933324332299456,0.9341082075020892,0.9348782753958446,0.9356375347955009],\"yaxis\":\"y\",\"type\":\"scatter\"}],                        {\"template\":{\"data\":{\"bar\":[{\"error_x\":{\"color\":\"#2a3f5f\"},\"error_y\":{\"color\":\"#2a3f5f\"},\"marker\":{\"line\":{\"color\":\"#E5ECF6\",\"width\":0.5},\"pattern\":{\"fillmode\":\"overlay\",\"size\":10,\"solidity\":0.2}},\"type\":\"bar\"}],\"barpolar\":[{\"marker\":{\"line\":{\"color\":\"#E5ECF6\",\"width\":0.5},\"pattern\":{\"fillmode\":\"overlay\",\"size\":10,\"solidity\":0.2}},\"type\":\"barpolar\"}],\"carpet\":[{\"aaxis\":{\"endlinecolor\":\"#2a3f5f\",\"gridcolor\":\"white\",\"linecolor\":\"white\",\"minorgridcolor\":\"white\",\"startlinecolor\":\"#2a3f5f\"},\"baxis\":{\"endlinecolor\":\"#2a3f5f\",\"gridcolor\":\"white\",\"linecolor\":\"white\",\"minorgridcolor\":\"white\",\"startlinecolor\":\"#2a3f5f\"},\"type\":\"carpet\"}],\"choropleth\":[{\"colorbar\":{\"outlinewidth\":0,\"ticks\":\"\"},\"type\":\"choropleth\"}],\"contour\":[{\"colorbar\":{\"outlinewidth\":0,\"ticks\":\"\"},\"colorscale\":[[0.0,\"#0d0887\"],[0.1111111111111111,\"#46039f\"],[0.2222222222222222,\"#7201a8\"],[0.3333333333333333,\"#9c179e\"],[0.4444444444444444,\"#bd3786\"],[0.5555555555555556,\"#d8576b\"],[0.6666666666666666,\"#ed7953\"],[0.7777777777777778,\"#fb9f3a\"],[0.8888888888888888,\"#fdca26\"],[1.0,\"#f0f921\"]],\"type\":\"contour\"}],\"contourcarpet\":[{\"colorbar\":{\"outlinewidth\":0,\"ticks\":\"\"},\"type\":\"contourcarpet\"}],\"heatmap\":[{\"colorbar\":{\"outlinewidth\":0,\"ticks\":\"\"},\"colorscale\":[[0.0,\"#0d0887\"],[0.1111111111111111,\"#46039f\"],[0.2222222222222222,\"#7201a8\"],[0.3333333333333333,\"#9c179e\"],[0.4444444444444444,\"#bd3786\"],[0.5555555555555556,\"#d8576b\"],[0.6666666666666666,\"#ed7953\"],[0.7777777777777778,\"#fb9f3a\"],[0.8888888888888888,\"#fdca26\"],[1.0,\"#f0f921\"]],\"type\":\"heatmap\"}],\"heatmapgl\":[{\"colorbar\":{\"outlinewidth\":0,\"ticks\":\"\"},\"colorscale\":[[0.0,\"#0d0887\"],[0.1111111111111111,\"#46039f\"],[0.2222222222222222,\"#7201a8\"],[0.3333333333333333,\"#9c179e\"],[0.4444444444444444,\"#bd3786\"],[0.5555555555555556,\"#d8576b\"],[0.6666666666666666,\"#ed7953\"],[0.7777777777777778,\"#fb9f3a\"],[0.8888888888888888,\"#fdca26\"],[1.0,\"#f0f921\"]],\"type\":\"heatmapgl\"}],\"histogram\":[{\"marker\":{\"pattern\":{\"fillmode\":\"overlay\",\"size\":10,\"solidity\":0.2}},\"type\":\"histogram\"}],\"histogram2d\":[{\"colorbar\":{\"outlinewidth\":0,\"ticks\":\"\"},\"colorscale\":[[0.0,\"#0d0887\"],[0.1111111111111111,\"#46039f\"],[0.2222222222222222,\"#7201a8\"],[0.3333333333333333,\"#9c179e\"],[0.4444444444444444,\"#bd3786\"],[0.5555555555555556,\"#d8576b\"],[0.6666666666666666,\"#ed7953\"],[0.7777777777777778,\"#fb9f3a\"],[0.8888888888888888,\"#fdca26\"],[1.0,\"#f0f921\"]],\"type\":\"histogram2d\"}],\"histogram2dcontour\":[{\"colorbar\":{\"outlinewidth\":0,\"ticks\":\"\"},\"colorscale\":[[0.0,\"#0d0887\"],[0.1111111111111111,\"#46039f\"],[0.2222222222222222,\"#7201a8\"],[0.3333333333333333,\"#9c179e\"],[0.4444444444444444,\"#bd3786\"],[0.5555555555555556,\"#d8576b\"],[0.6666666666666666,\"#ed7953\"],[0.7777777777777778,\"#fb9f3a\"],[0.8888888888888888,\"#fdca26\"],[1.0,\"#f0f921\"]],\"type\":\"histogram2dcontour\"}],\"mesh3d\":[{\"colorbar\":{\"outlinewidth\":0,\"ticks\":\"\"},\"type\":\"mesh3d\"}],\"parcoords\":[{\"line\":{\"colorbar\":{\"outlinewidth\":0,\"ticks\":\"\"}},\"type\":\"parcoords\"}],\"pie\":[{\"automargin\":true,\"type\":\"pie\"}],\"scatter\":[{\"marker\":{\"colorbar\":{\"outlinewidth\":0,\"ticks\":\"\"}},\"type\":\"scatter\"}],\"scatter3d\":[{\"line\":{\"colorbar\":{\"outlinewidth\":0,\"ticks\":\"\"}},\"marker\":{\"colorbar\":{\"outlinewidth\":0,\"ticks\":\"\"}},\"type\":\"scatter3d\"}],\"scattercarpet\":[{\"marker\":{\"colorbar\":{\"outlinewidth\":0,\"ticks\":\"\"}},\"type\":\"scattercarpet\"}],\"scattergeo\":[{\"marker\":{\"colorbar\":{\"outlinewidth\":0,\"ticks\":\"\"}},\"type\":\"scattergeo\"}],\"scattergl\":[{\"marker\":{\"colorbar\":{\"outlinewidth\":0,\"ticks\":\"\"}},\"type\":\"scattergl\"}],\"scattermapbox\":[{\"marker\":{\"colorbar\":{\"outlinewidth\":0,\"ticks\":\"\"}},\"type\":\"scattermapbox\"}],\"scatterpolar\":[{\"marker\":{\"colorbar\":{\"outlinewidth\":0,\"ticks\":\"\"}},\"type\":\"scatterpolar\"}],\"scatterpolargl\":[{\"marker\":{\"colorbar\":{\"outlinewidth\":0,\"ticks\":\"\"}},\"type\":\"scatterpolargl\"}],\"scatterternary\":[{\"marker\":{\"colorbar\":{\"outlinewidth\":0,\"ticks\":\"\"}},\"type\":\"scatterternary\"}],\"surface\":[{\"colorbar\":{\"outlinewidth\":0,\"ticks\":\"\"},\"colorscale\":[[0.0,\"#0d0887\"],[0.1111111111111111,\"#46039f\"],[0.2222222222222222,\"#7201a8\"],[0.3333333333333333,\"#9c179e\"],[0.4444444444444444,\"#bd3786\"],[0.5555555555555556,\"#d8576b\"],[0.6666666666666666,\"#ed7953\"],[0.7777777777777778,\"#fb9f3a\"],[0.8888888888888888,\"#fdca26\"],[1.0,\"#f0f921\"]],\"type\":\"surface\"}],\"table\":[{\"cells\":{\"fill\":{\"color\":\"#EBF0F8\"},\"line\":{\"color\":\"white\"}},\"header\":{\"fill\":{\"color\":\"#C8D4E3\"},\"line\":{\"color\":\"white\"}},\"type\":\"table\"}]},\"layout\":{\"annotationdefaults\":{\"arrowcolor\":\"#2a3f5f\",\"arrowhead\":0,\"arrowwidth\":1},\"autotypenumbers\":\"strict\",\"coloraxis\":{\"colorbar\":{\"outlinewidth\":0,\"ticks\":\"\"}},\"colorscale\":{\"diverging\":[[0,\"#8e0152\"],[0.1,\"#c51b7d\"],[0.2,\"#de77ae\"],[0.3,\"#f1b6da\"],[0.4,\"#fde0ef\"],[0.5,\"#f7f7f7\"],[0.6,\"#e6f5d0\"],[0.7,\"#b8e186\"],[0.8,\"#7fbc41\"],[0.9,\"#4d9221\"],[1,\"#276419\"]],\"sequential\":[[0.0,\"#0d0887\"],[0.1111111111111111,\"#46039f\"],[0.2222222222222222,\"#7201a8\"],[0.3333333333333333,\"#9c179e\"],[0.4444444444444444,\"#bd3786\"],[0.5555555555555556,\"#d8576b\"],[0.6666666666666666,\"#ed7953\"],[0.7777777777777778,\"#fb9f3a\"],[0.8888888888888888,\"#fdca26\"],[1.0,\"#f0f921\"]],\"sequentialminus\":[[0.0,\"#0d0887\"],[0.1111111111111111,\"#46039f\"],[0.2222222222222222,\"#7201a8\"],[0.3333333333333333,\"#9c179e\"],[0.4444444444444444,\"#bd3786\"],[0.5555555555555556,\"#d8576b\"],[0.6666666666666666,\"#ed7953\"],[0.7777777777777778,\"#fb9f3a\"],[0.8888888888888888,\"#fdca26\"],[1.0,\"#f0f921\"]]},\"colorway\":[\"#636efa\",\"#EF553B\",\"#00cc96\",\"#ab63fa\",\"#FFA15A\",\"#19d3f3\",\"#FF6692\",\"#B6E880\",\"#FF97FF\",\"#FECB52\"],\"font\":{\"color\":\"#2a3f5f\"},\"geo\":{\"bgcolor\":\"white\",\"lakecolor\":\"white\",\"landcolor\":\"#E5ECF6\",\"showlakes\":true,\"showland\":true,\"subunitcolor\":\"white\"},\"hoverlabel\":{\"align\":\"left\"},\"hovermode\":\"closest\",\"mapbox\":{\"style\":\"light\"},\"paper_bgcolor\":\"white\",\"plot_bgcolor\":\"#E5ECF6\",\"polar\":{\"angularaxis\":{\"gridcolor\":\"white\",\"linecolor\":\"white\",\"ticks\":\"\"},\"bgcolor\":\"#E5ECF6\",\"radialaxis\":{\"gridcolor\":\"white\",\"linecolor\":\"white\",\"ticks\":\"\"}},\"scene\":{\"xaxis\":{\"backgroundcolor\":\"#E5ECF6\",\"gridcolor\":\"white\",\"gridwidth\":2,\"linecolor\":\"white\",\"showbackground\":true,\"ticks\":\"\",\"zerolinecolor\":\"white\"},\"yaxis\":{\"backgroundcolor\":\"#E5ECF6\",\"gridcolor\":\"white\",\"gridwidth\":2,\"linecolor\":\"white\",\"showbackground\":true,\"ticks\":\"\",\"zerolinecolor\":\"white\"},\"zaxis\":{\"backgroundcolor\":\"#E5ECF6\",\"gridcolor\":\"white\",\"gridwidth\":2,\"linecolor\":\"white\",\"showbackground\":true,\"ticks\":\"\",\"zerolinecolor\":\"white\"}},\"shapedefaults\":{\"line\":{\"color\":\"#2a3f5f\"}},\"ternary\":{\"aaxis\":{\"gridcolor\":\"white\",\"linecolor\":\"white\",\"ticks\":\"\"},\"baxis\":{\"gridcolor\":\"white\",\"linecolor\":\"white\",\"ticks\":\"\"},\"bgcolor\":\"#E5ECF6\",\"caxis\":{\"gridcolor\":\"white\",\"linecolor\":\"white\",\"ticks\":\"\"}},\"title\":{\"x\":0.05},\"xaxis\":{\"automargin\":true,\"gridcolor\":\"white\",\"linecolor\":\"white\",\"ticks\":\"\",\"title\":{\"standoff\":15},\"zerolinecolor\":\"white\",\"zerolinewidth\":2},\"yaxis\":{\"automargin\":true,\"gridcolor\":\"white\",\"linecolor\":\"white\",\"ticks\":\"\",\"title\":{\"standoff\":15},\"zerolinecolor\":\"white\",\"zerolinewidth\":2}}},\"xaxis\":{\"anchor\":\"y\",\"domain\":[0.0,1.0],\"title\":{\"text\":\"# Components\"}},\"yaxis\":{\"anchor\":\"x\",\"domain\":[0.0,1.0],\"title\":{\"text\":\"Explained Variance\"}},\"legend\":{\"tracegroupgap\":0},\"margin\":{\"t\":60}},                        {\"responsive\": true}                    ).then(function(){\n",
              "                            \n",
              "var gd = document.getElementById('7e96f9b1-8420-41e4-9cf4-7cb962310826');\n",
              "var x = new MutationObserver(function (mutations, observer) {{\n",
              "        var display = window.getComputedStyle(gd).display;\n",
              "        if (!display || display === 'none') {{\n",
              "            console.log([gd, 'removed!']);\n",
              "            Plotly.purge(gd);\n",
              "            observer.disconnect();\n",
              "        }}\n",
              "}});\n",
              "\n",
              "// Listen for the removal of the full notebook cells\n",
              "var notebookContainer = gd.closest('#notebook-container');\n",
              "if (notebookContainer) {{\n",
              "    x.observe(notebookContainer, {childList: true});\n",
              "}}\n",
              "\n",
              "// Listen for the clearing of the current output cell\n",
              "var outputEl = gd.closest('.output');\n",
              "if (outputEl) {{\n",
              "    x.observe(outputEl, {childList: true});\n",
              "}}\n",
              "\n",
              "                        })                };                            </script>        </div>\n",
              "</body>\n",
              "</html>"
            ]
          },
          "metadata": {}
        }
      ],
      "source": [
        "pca = PCA(n_components=100)\n",
        "components = pca.fit_transform(faces, ds.target)\n",
        "total_var = pca.explained_variance_ratio_.sum() * 100\n",
        "\n",
        "exp_var_cumul = np.cumsum(pca.explained_variance_ratio_)\n",
        "\n",
        "px.area(\n",
        "    x=range(1, exp_var_cumul.shape[0] + 1),\n",
        "    y=exp_var_cumul,\n",
        "    labels={\"x\": \"# Components\", \"y\": \"Explained Variance\"}\n",
        ")"
      ]
    },
    {
      "cell_type": "code",
      "execution_count": 6,
      "metadata": {
        "colab": {
          "base_uri": "https://localhost:8080/",
          "height": 542
        },
        "id": "WtSsSpfI8czU",
        "outputId": "da6018a2-4cb9-482b-eac3-68491da2c8ea"
      },
      "outputs": [
        {
          "output_type": "display_data",
          "data": {
            "text/html": [
              "<html>\n",
              "<head><meta charset=\"utf-8\" /></head>\n",
              "<body>\n",
              "    <div>            <script src=\"https://cdnjs.cloudflare.com/ajax/libs/mathjax/2.7.5/MathJax.js?config=TeX-AMS-MML_SVG\"></script><script type=\"text/javascript\">if (window.MathJax) {MathJax.Hub.Config({SVG: {font: \"STIX-Web\"}});}</script>                <script type=\"text/javascript\">window.PlotlyConfig = {MathJaxConfig: 'local'};</script>\n",
              "        <script src=\"https://cdn.plot.ly/plotly-2.8.3.min.js\"></script>                <div id=\"80949830-8180-4634-bf46-3b4e590464fb\" class=\"plotly-graph-div\" style=\"height:525px; width:100%;\"></div>            <script type=\"text/javascript\">                                    window.PLOTLYENV=window.PLOTLYENV || {};                                    if (document.getElementById(\"80949830-8180-4634-bf46-3b4e590464fb\")) {                    Plotly.newPlot(                        \"80949830-8180-4634-bf46-3b4e590464fb\",                        [{\"hovertemplate\":\"PC 1=%{x}<br>PC 2=%{y}<br>color=%{marker.color}<extra></extra>\",\"legendgroup\":\"\",\"marker\":{\"color\":[0,0,0,0,0,0,0,0,0,0,1,1,1,1,1,1,1,1,1,1,2,2,2,2,2,2,2,2,2,2,3,3,3,3,3,3,3,3,3,3,4,4,4,4,4,4,4,4,4,4,5,5,5,5,5,5,5,5,5,5,6,6,6,6,6,6,6,6,6,6,7,7,7,7,7,7,7,7,7,7,8,8,8,8,8,8,8,8,8,8,9,9,9,9,9,9,9,9,9,9,10,10,10,10,10,10,10,10,10,10,11,11,11,11,11,11,11,11,11,11,12,12,12,12,12,12,12,12,12,12,13,13,13,13,13,13,13,13,13,13,14,14,14,14,14,14,14,14,14,14,15,15,15,15,15,15,15,15,15,15,16,16,16,16,16,16,16,16,16,16,17,17,17,17,17,17,17,17,17,17,18,18,18,18,18,18,18,18,18,18,19,19,19,19,19,19,19,19,19,19,20,20,20,20,20,20,20,20,20,20,21,21,21,21,21,21,21,21,21,21,22,22,22,22,22,22,22,22,22,22,23,23,23,23,23,23,23,23,23,23,24,24,24,24,24,24,24,24,24,24,25,25,25,25,25,25,25,25,25,25,26,26,26,26,26,26,26,26,26,26,27,27,27,27,27,27,27,27,27,27,28,28,28,28,28,28,28,28,28,28,29,29,29,29,29,29,29,29,29,29,30,30,30,30,30,30,30,30,30,30,31,31,31,31,31,31,31,31,31,31,32,32,32,32,32,32,32,32,32,32,33,33,33,33,33,33,33,33,33,33,34,34,34,34,34,34,34,34,34,34,35,35,35,35,35,35,35,35,35,35,36,36,36,36,36,36,36,36,36,36,37,37,37,37,37,37,37,37,37,37,38,38,38,38,38,38,38,38,38,38,39,39,39,39,39,39,39,39,39,39],\"coloraxis\":\"coloraxis\",\"symbol\":\"circle\"},\"mode\":\"markers\",\"name\":\"\",\"orientation\":\"v\",\"showlegend\":false,\"x\":[45.26837974244759,11.860036860023703,39.27399127156962,26.628274361665223,36.239391719656,34.65382475656216,41.81823635518897,42.11779052499333,50.890709316038624,20.02550334153441,4.251428424727059,2.393805324883255,0.4080871969369983,-5.73944273250969,0.06487324578262887,-1.5655175839192206,-8.468449650322025,-4.163753551162573,-6.399723029719546,-0.45025981145856164,-15.203160691519486,-16.059500175873467,-13.796902216082023,-13.653828750842877,-10.053569197236454,9.969228345089014,23.58452271834594,17.500852680866398,26.888430119735727,24.154574179091753,2.17902155477536,-4.667558824293175,-2.5358513934491116,32.35239753556197,24.83844008794253,29.326920246187317,33.54454596297328,3.1879176963885114,-11.767147716276488,14.665915884434309,5.241171489227822,-7.386986383928059,-13.224218299360688,4.205063763634039,28.60235060892611,24.095471794415875,8.720044334680516,14.544750181400135,28.553132654623035,44.0251804530333,34.412167438076885,33.51163732087298,39.38970301883126,73.64441366997474,75.42564872138907,81.19030966264056,76.27990002420151,77.58612197046187,72.82024528296127,75.90358973357797,36.56533404433776,13.689505512711202,40.33964089782238,24.927863982806993,39.32842367149867,39.67885798829392,46.121277159810944,48.301686987098755,47.31965747375495,28.565080115111236,34.41189386750912,23.9592927458808,48.13678275859838,-12.365978100386323,56.120167975367856,59.47343823747534,4.762158900809285,53.66180596567524,58.21775505755482,23.59329913646689,-22.69673562308922,-19.663266615739616,-26.493023558465854,8.307759548783721,7.7817152848326145,6.842453296117769,13.662053970369955,17.143298158946287,3.9472754115684463,9.359384410191659,6.956791340349419,1.8253754843342567,-17.814960086762405,-21.284404558977503,32.90137655699012,24.653669000977676,25.676581217917388,34.39000715880331,31.387191397375943,54.818722720298105,23.011532395953875,25.50401869470271,26.994506708817003,19.616373774525897,22.222066654060647,26.479561373967872,21.307820123061475,18.73219381792633,18.397339330605313,20.825394884860753,32.92071617002653,-15.589136965903275,-12.470148536714587,-14.553267286792082,-16.051734438424248,37.953782741338635,-14.574759707068477,21.378434405549548,28.305097580740068,26.550246831909178,-8.585242703907202,-12.518544734096563,19.396768178338796,7.269636457730931,16.58163511593156,8.53807401004537,10.670389432691286,13.41646835880931,14.683846106543188,16.613240651172568,5.439317478629846,-2.6999749887443176,-2.569914935154606,14.938207975792713,5.19066338191648,-4.137947979226943,4.561952152494987,4.261747229252229,-7.864297364403716,3.4075748964316324,2.7394276720352324,7.322774166072526,6.079920044725506,4.597893718662149,-0.10424360826481616,4.954609973564418,-1.0002374100196616,-3.3692681707183283,-2.2329082161625076,-0.4001346820875913,-12.404386744693666,30.2516924085972,29.71395912774643,49.06211678622032,49.19669602430565,-2.892111249219915,18.50537889228852,27.786022717973772,24.032206794562228,30.151429052267538,14.780263769257855,14.145312744292122,-2.6669258740767883,-5.008842769239554,20.646399878821406,19.673455751234794,18.37599543559397,25.57119340685947,18.48960189636446,4.180355547108979,44.73823129040449,26.127554567386337,31.368410279746406,17.193662687059657,28.35393600830548,46.264737121470255,45.01582655752107,32.492407756366234,48.30627733442344,51.319301329821634,5.318092157795556,5.972287066980885,11.945015698225337,26.534077229632064,27.09264270565123,7.96156701709934,24.777409188721183,28.579644654872766,27.208801174268626,13.980431196734248,-26.553392153737136,-24.7835930784022,-24.311757491252877,2.2131393273085185,27.441441349731242,-0.20165592438790858,27.44951375076098,17.418674339234162,30.566502386908454,-32.721220375837255,-42.437062148310815,-41.61498116095096,-39.94884663480446,-13.091192665393258,-12.42545754126532,-9.539820979918357,-7.948631137530432,-19.34492045157698,-17.375474216555002,-13.45259108901574,-77.28260812578435,-72.23562409316018,-75.15460446671247,-70.53375133814066,-71.12550007222445,-80.97456670417426,-75.84550625960043,-74.74182405564159,-75.52760027721628,-73.10227231466463,39.75826407634834,30.113637303848048,0.5528420634300679,16.736029945237483,-3.0231630532426736,17.55207102238119,6.5207247721584825,29.085706672005404,40.29214501154368,40.98144767829593,-5.7058804736444735,-6.381346557108628,-31.752116146512027,-16.86858455753709,-23.099014107438826,-7.316966731147687,-4.944477016159031,-3.509332317608236,-22.532454961695027,-23.607240902799848,13.937375013979977,-17.404890105863974,15.401172785059366,-0.6048146222533304,0.9868061337218859,-5.564448698001013,16.66006579964594,18.964660540333433,-5.8794454897323645,9.327940449769368,-13.311385987179847,-1.5033951207803509,-5.1170861121004245,-31.620779354861938,-30.366062343817553,1.6770241180385663,41.07958590051734,-5.9260152537191795,4.221666169875887,-4.611509209305507,7.490694914477241,4.6473114676141325,12.16400028393479,9.029635448461981,5.7425698509494145,1.2591027033587838,9.346337493185196,9.214332281193744,-0.4380426589167998,12.11093593585789,9.09953028342086,-1.6077841917425788,14.881555264559791,12.65016039432484,4.169065982975219,7.5012433302238986,3.2592206907723478,3.915914207038479,-10.522302158422978,16.29615237858789,-58.886330560712345,-64.15942404898313,-59.57334828522293,-26.816448985030487,-12.101978874063459,-8.960760520902157,-14.837180892467874,-20.274090234876187,-61.671090772644575,-55.509612330009666,-18.65480178976426,-36.79871407596162,-23.61297064691386,-34.977939573921994,-35.46564663946041,-11.888812730830056,-37.50230302186051,-36.70724517844645,-12.65662944699374,-17.880371675104005,-27.46719681840746,-38.47704248092477,-35.4924528832558,-39.46834038734091,-38.90621804507286,-33.744812972633724,-38.75953510047169,-25.7762320175644,-30.22172575893392,-39.571894226679994,17.462197765171002,11.917190500500721,4.88262403743029,27.23657433809391,8.175551048677182,20.30335993932969,4.007346401105887,22.439222946093107,20.313159898993163,19.978446276603552,-59.19007089519124,-64.40058851262414,-60.6661187866991,-64.11867163606804,-33.33021640660477,-38.3992894924889,-33.53759544213276,-37.52680645079046,-32.63077895261222,-62.80672783738077,-65.78243296161642,-65.69488884777954,-63.21708215576845,-73.01293601401207,-83.93013071448497,-64.86551788983186,-88.72483647854129,-63.31264816837855,-64.01896516881081,-64.41467516135937,-33.27474482850702,-36.20560181225369,-25.897335132773968,-33.12288363782716,11.384341665438795,0.23832131685088642,-3.9036961606009,-0.024228814639633445,11.309683186258852,8.03107277456213,52.30188017274583,3.6207005733262436,4.4451979769991485,10.830960342891057,42.656244391821915,3.2924465638755263,3.7839262847862973,7.792296481509979,19.38350300061621,20.70500701514122,-16.784312228788682,-48.01874747147605,-12.765547562505176,-48.2644108310878,-48.101858918398946,-44.469857407648355,-22.2219535534784,-57.43727055339243,-11.248933314322976,-27.26865447278374,23.27767994853863,-2.024317351756134,-3.0505512520782325,21.511729787413415,-4.974861951095285,17.537544116159996,2.1650791643320555,9.620684839376663,22.163831406116177,-2.1901090625557567,-61.411155951844606,-78.50779564547463,-68.48272546009402,-71.79367814552408,-68.25127672744078,-69.90509285617529,-69.49100290700609,-63.60154941472534,-66.86856106654253,-67.70909207950999,-6.472130519634004,32.81810393153567,30.8515890424676,5.305788346067937,37.26182422916977,-6.387723716932911,38.602656839810074,-10.812110635239002,36.93931703482742,8.682936266738459],\"xaxis\":\"x\",\"y\":[2.1739464423886083,41.954910445547,7.277844367909202,-78.67501173769435,18.37684297816899,-44.82692366214274,-3.206001555592701,-30.10170175141084,-15.336950022687178,11.839377214707183,5.545423358773495,18.694974837965603,14.741602912493892,23.266162443549046,10.59054907233432,26.15467760131315,8.648142040146832,15.156892915939846,29.25958503720063,10.075641373487969,16.781331387879575,23.4928585038675,24.401465549085334,-12.593116981493786,-24.0073145877195,-7.0368516044660305,-19.456597861806152,-31.99681076773024,3.8368486757295113,10.30583750012439,-3.4819846446413707,14.603688569135537,-11.677585931870874,5.946871305135945,21.69827456451906,-40.510181600788194,-4.381182140036772,-9.487132269081279,9.08388121976791,33.73024995802554,-3.159292799557122,17.943012405627705,21.215228055726875,-4.425684219046993,-44.28595721620423,-37.924845232474,-9.979619696173293,-24.254676565476835,-28.74164072630031,-23.80621739083943,17.429756579399942,13.340812120144506,13.837249904105365,-8.21498243593237,-20.630075578806334,-6.594715350037827,-26.325594524543465,6.280908546052939,-35.26738411117595,-12.992055399550814,7.95854978040872,7.267816347419807,-9.060456863586621,-19.771646245430126,-17.035246052637724,-1.2026285888803367,13.190146963654993,4.095294530171318,-13.867653810772383,-16.334343983594398,35.79053124236226,47.681590892038585,30.840923252816193,74.2478420414983,29.698643605749982,27.7791566486403,67.54808273195415,24.48355692281396,-37.53266946092867,60.287225699636394,0.5119881099757204,13.021591399646178,1.9023622966564209,-11.830124322035378,-10.443335062768659,-22.059617633599153,-22.07564285267334,-9.860316079602757,-3.370413977190682,3.0882685937213905,7.924293940221795,20.47642160805383,43.41416260617344,43.2430877673541,4.976632576545643,22.507091378677234,29.175339916671174,2.4473748178806085,-45.2851726220598,9.862287652001969,30.148246434988195,22.59245545117919,25.791941120191417,32.862619534902414,32.523832767270406,29.449508805129838,40.00575871698216,38.2835174948457,33.662077379946055,36.13251196265743,-11.895695289857096,-11.53706985912084,-22.764215654583815,8.459211425413946,-5.178289928945881,-29.07192038678497,-0.8477375035861485,10.89611590766599,5.730364826975936,-6.102326214925731,-4.21988104157934,5.762030968532785,-19.388400808933785,-24.673653844402548,-7.196672642995395,24.450414009037154,-46.26146633485691,-31.74128206522379,-0.05610504422038731,-12.578205687408758,16.287907222129824,28.420102314380532,29.913644994261496,8.21191803670214,8.277223254930782,31.888794647968588,4.293534192529425,6.9225651640820285,35.0946387421877,16.183732171991736,12.348716938271755,-5.17513844012233,10.119692907927957,11.649997461189738,-6.226874539797744,11.245274233588471,4.644567620197729,3.9913375186467306,-1.855051901320746,0.6094737982857386,-8.931772724762912,-4.714841342942484,-3.366665434139728,5.595450431816829,6.414827452533367,-7.8925349184595035,19.022053987623625,-28.79928237396318,-7.54736379471421,-1.6225678202838316,-21.79900527158012,-16.838926385844243,19.117947365108236,22.82240134700125,-21.212279808511465,-55.99794995175454,-59.66439549883664,-21.040761372950925,-48.362661743967635,-71.10406818976344,20.27594325200515,11.91466654602614,-12.650301286573606,9.057881877791516,-3.8021181129628383,-9.638099288462191,10.101434205975687,-4.178116290338369,4.715290357436265,-16.915103264803694,2.4460034308152756,6.369144719275291,10.168363435089399,26.380634776256684,28.1995884146809,10.406447897876413,23.18577500927195,26.82608962126192,28.647683885775763,12.088870235381153,16.353952534453242,12.743796978275041,6.5951013616548755,-9.840443265513658,-15.340572837948596,-10.81670804336823,-19.662546857036325,-24.719181532920857,-25.33853792110735,11.75651309000485,-6.814741781477254,-22.594702312930284,-17.123952110149435,-16.54149300870264,-5.629799966386933,-4.553741946028024,-41.01480043177879,-39.97182558972309,-3.7577889956495967,-38.49814956169036,-2.6347063916250866,-7.23455378162763,0.4138853942815604,-5.04538064662183,-4.164959816768087,-13.768236061168812,-1.0523392481998968,0.6056012761684687,-0.6326292878905135,-3.5851558072707954,5.015509309157063,24.197695847773893,10.931017512165864,-7.646298691463317,15.035424285705584,-11.012233265353672,2.6148966262746365,18.33284973845849,-29.05029656108966,-21.55136907604712,-9.817751070056627,-11.122882340103816,-70.46626617442229,-53.852874757638176,25.428084883589893,-24.849258838675823,-17.753373134510532,-15.91272861064709,-57.65295327778071,-59.785642843293054,18.481680801845194,31.411067590778625,14.447820028436675,19.027584038770797,4.915451649224498,29.929016613904246,9.965143956304232,-20.705648588884877,26.659539874172392,25.934649228911297,8.800785256852645,-2.598860936546913,13.617403280258722,26.491579483458644,32.52828033646976,-6.984794266755965,3.4276007431329134,26.861630129148026,3.238847262500163,27.848393992205324,20.331993286537795,24.246089734368677,22.51144092802032,23.004058990417178,26.97950249673858,26.904319891537,21.655724334176945,22.966080519219524,28.154970005453464,20.63906605251243,7.426914517657819,16.39816183716261,-3.768919218504142,11.650531765865985,14.383965024130674,9.410826173912724,14.31216207791494,22.869748063030393,13.223519202586148,-15.374594303911401,-9.665927281472765,1.812294811560977,-22.002517103097148,-16.810353930872086,-32.359751381972586,-18.622975388980432,-18.959392632493184,-51.90456370008614,-22.495355369226534,-9.686247674206802,10.55292169779657,9.665273080706566,20.183544663334253,-4.689331162479068,-4.926577655517078,-4.895987271902318,-2.0519224251783603,-2.813205552643681,-15.34483549241337,5.887617035313968,-24.569506649537843,4.599646972480335,8.285605930149242,7.772606219986152,9.285194273513769,-16.022671461976934,-2.2373267258537526,-24.063427517258912,-10.968065516173352,5.986437252264698,29.148332465953903,24.60363366065002,28.242620144112998,26.498766028630257,31.31662069294703,30.103797006444154,14.623731502984338,21.505051888065445,29.120111742015983,27.748760497205897,-21.744766815127416,-2.1487363116558766,-5.669051893296892,1.0684209046813133,-16.78261838487288,-38.38156614622053,-20.699155363831185,-5.1885910673745474,-27.466378618070937,-1.7439742892667318,7.605733337246987,7.289477267239222,7.703941001709142,-0.4048976903189343,4.228246721677966,7.396532011085513,5.031564969428029,6.879055530602227,6.9462108326404035,6.328975151776002,-1.4882405982011768,9.058197293083648,-19.547842119365825,9.981559300103171,-48.81128830491255,8.657130373888789,17.346331007981068,1.090908385747975,-47.83959661820742,-43.10321569942607,-9.895944893015468,-31.016516015803383,-34.36711169812674,-33.875308031587956,-10.43020365573276,-28.588742233579467,-30.920976261576016,-24.598698879685763,-14.385077804259815,-19.668069949781792,-16.259166157581298,11.80038762154973,-18.96734072554598,12.530155611188782,14.9862851552851,11.570403676156486,-5.042037529505666,12.568085744564208,-17.833752027404227,-19.282737828874442,-23.974937467068408,14.05339310443369,19.24754218853562,11.191499135677017,13.377955359856738,-6.669877055067759,14.549943686723811,25.705042958163535,-21.393538621389755,0.8807800291302221,1.0252653917534833,9.564574430470559,-32.584666193914586,-17.795418743440145,2.51641231530302,-9.532108794299372,7.6495113809716475,7.334775756481189,2.134290087016485,-14.310840323749552,9.897947778735979,-18.388993950486316,-8.390781678422533,-16.576515393958417,-13.34736058651472,4.848501798043727,-40.308661187078755,9.584967258784658,-56.96338995686976,-15.290223610491173],\"yaxis\":\"y\",\"type\":\"scatter\"}],                        {\"template\":{\"data\":{\"bar\":[{\"error_x\":{\"color\":\"#2a3f5f\"},\"error_y\":{\"color\":\"#2a3f5f\"},\"marker\":{\"line\":{\"color\":\"#E5ECF6\",\"width\":0.5},\"pattern\":{\"fillmode\":\"overlay\",\"size\":10,\"solidity\":0.2}},\"type\":\"bar\"}],\"barpolar\":[{\"marker\":{\"line\":{\"color\":\"#E5ECF6\",\"width\":0.5},\"pattern\":{\"fillmode\":\"overlay\",\"size\":10,\"solidity\":0.2}},\"type\":\"barpolar\"}],\"carpet\":[{\"aaxis\":{\"endlinecolor\":\"#2a3f5f\",\"gridcolor\":\"white\",\"linecolor\":\"white\",\"minorgridcolor\":\"white\",\"startlinecolor\":\"#2a3f5f\"},\"baxis\":{\"endlinecolor\":\"#2a3f5f\",\"gridcolor\":\"white\",\"linecolor\":\"white\",\"minorgridcolor\":\"white\",\"startlinecolor\":\"#2a3f5f\"},\"type\":\"carpet\"}],\"choropleth\":[{\"colorbar\":{\"outlinewidth\":0,\"ticks\":\"\"},\"type\":\"choropleth\"}],\"contour\":[{\"colorbar\":{\"outlinewidth\":0,\"ticks\":\"\"},\"colorscale\":[[0.0,\"#0d0887\"],[0.1111111111111111,\"#46039f\"],[0.2222222222222222,\"#7201a8\"],[0.3333333333333333,\"#9c179e\"],[0.4444444444444444,\"#bd3786\"],[0.5555555555555556,\"#d8576b\"],[0.6666666666666666,\"#ed7953\"],[0.7777777777777778,\"#fb9f3a\"],[0.8888888888888888,\"#fdca26\"],[1.0,\"#f0f921\"]],\"type\":\"contour\"}],\"contourcarpet\":[{\"colorbar\":{\"outlinewidth\":0,\"ticks\":\"\"},\"type\":\"contourcarpet\"}],\"heatmap\":[{\"colorbar\":{\"outlinewidth\":0,\"ticks\":\"\"},\"colorscale\":[[0.0,\"#0d0887\"],[0.1111111111111111,\"#46039f\"],[0.2222222222222222,\"#7201a8\"],[0.3333333333333333,\"#9c179e\"],[0.4444444444444444,\"#bd3786\"],[0.5555555555555556,\"#d8576b\"],[0.6666666666666666,\"#ed7953\"],[0.7777777777777778,\"#fb9f3a\"],[0.8888888888888888,\"#fdca26\"],[1.0,\"#f0f921\"]],\"type\":\"heatmap\"}],\"heatmapgl\":[{\"colorbar\":{\"outlinewidth\":0,\"ticks\":\"\"},\"colorscale\":[[0.0,\"#0d0887\"],[0.1111111111111111,\"#46039f\"],[0.2222222222222222,\"#7201a8\"],[0.3333333333333333,\"#9c179e\"],[0.4444444444444444,\"#bd3786\"],[0.5555555555555556,\"#d8576b\"],[0.6666666666666666,\"#ed7953\"],[0.7777777777777778,\"#fb9f3a\"],[0.8888888888888888,\"#fdca26\"],[1.0,\"#f0f921\"]],\"type\":\"heatmapgl\"}],\"histogram\":[{\"marker\":{\"pattern\":{\"fillmode\":\"overlay\",\"size\":10,\"solidity\":0.2}},\"type\":\"histogram\"}],\"histogram2d\":[{\"colorbar\":{\"outlinewidth\":0,\"ticks\":\"\"},\"colorscale\":[[0.0,\"#0d0887\"],[0.1111111111111111,\"#46039f\"],[0.2222222222222222,\"#7201a8\"],[0.3333333333333333,\"#9c179e\"],[0.4444444444444444,\"#bd3786\"],[0.5555555555555556,\"#d8576b\"],[0.6666666666666666,\"#ed7953\"],[0.7777777777777778,\"#fb9f3a\"],[0.8888888888888888,\"#fdca26\"],[1.0,\"#f0f921\"]],\"type\":\"histogram2d\"}],\"histogram2dcontour\":[{\"colorbar\":{\"outlinewidth\":0,\"ticks\":\"\"},\"colorscale\":[[0.0,\"#0d0887\"],[0.1111111111111111,\"#46039f\"],[0.2222222222222222,\"#7201a8\"],[0.3333333333333333,\"#9c179e\"],[0.4444444444444444,\"#bd3786\"],[0.5555555555555556,\"#d8576b\"],[0.6666666666666666,\"#ed7953\"],[0.7777777777777778,\"#fb9f3a\"],[0.8888888888888888,\"#fdca26\"],[1.0,\"#f0f921\"]],\"type\":\"histogram2dcontour\"}],\"mesh3d\":[{\"colorbar\":{\"outlinewidth\":0,\"ticks\":\"\"},\"type\":\"mesh3d\"}],\"parcoords\":[{\"line\":{\"colorbar\":{\"outlinewidth\":0,\"ticks\":\"\"}},\"type\":\"parcoords\"}],\"pie\":[{\"automargin\":true,\"type\":\"pie\"}],\"scatter\":[{\"marker\":{\"colorbar\":{\"outlinewidth\":0,\"ticks\":\"\"}},\"type\":\"scatter\"}],\"scatter3d\":[{\"line\":{\"colorbar\":{\"outlinewidth\":0,\"ticks\":\"\"}},\"marker\":{\"colorbar\":{\"outlinewidth\":0,\"ticks\":\"\"}},\"type\":\"scatter3d\"}],\"scattercarpet\":[{\"marker\":{\"colorbar\":{\"outlinewidth\":0,\"ticks\":\"\"}},\"type\":\"scattercarpet\"}],\"scattergeo\":[{\"marker\":{\"colorbar\":{\"outlinewidth\":0,\"ticks\":\"\"}},\"type\":\"scattergeo\"}],\"scattergl\":[{\"marker\":{\"colorbar\":{\"outlinewidth\":0,\"ticks\":\"\"}},\"type\":\"scattergl\"}],\"scattermapbox\":[{\"marker\":{\"colorbar\":{\"outlinewidth\":0,\"ticks\":\"\"}},\"type\":\"scattermapbox\"}],\"scatterpolar\":[{\"marker\":{\"colorbar\":{\"outlinewidth\":0,\"ticks\":\"\"}},\"type\":\"scatterpolar\"}],\"scatterpolargl\":[{\"marker\":{\"colorbar\":{\"outlinewidth\":0,\"ticks\":\"\"}},\"type\":\"scatterpolargl\"}],\"scatterternary\":[{\"marker\":{\"colorbar\":{\"outlinewidth\":0,\"ticks\":\"\"}},\"type\":\"scatterternary\"}],\"surface\":[{\"colorbar\":{\"outlinewidth\":0,\"ticks\":\"\"},\"colorscale\":[[0.0,\"#0d0887\"],[0.1111111111111111,\"#46039f\"],[0.2222222222222222,\"#7201a8\"],[0.3333333333333333,\"#9c179e\"],[0.4444444444444444,\"#bd3786\"],[0.5555555555555556,\"#d8576b\"],[0.6666666666666666,\"#ed7953\"],[0.7777777777777778,\"#fb9f3a\"],[0.8888888888888888,\"#fdca26\"],[1.0,\"#f0f921\"]],\"type\":\"surface\"}],\"table\":[{\"cells\":{\"fill\":{\"color\":\"#EBF0F8\"},\"line\":{\"color\":\"white\"}},\"header\":{\"fill\":{\"color\":\"#C8D4E3\"},\"line\":{\"color\":\"white\"}},\"type\":\"table\"}]},\"layout\":{\"annotationdefaults\":{\"arrowcolor\":\"#2a3f5f\",\"arrowhead\":0,\"arrowwidth\":1},\"autotypenumbers\":\"strict\",\"coloraxis\":{\"colorbar\":{\"outlinewidth\":0,\"ticks\":\"\"}},\"colorscale\":{\"diverging\":[[0,\"#8e0152\"],[0.1,\"#c51b7d\"],[0.2,\"#de77ae\"],[0.3,\"#f1b6da\"],[0.4,\"#fde0ef\"],[0.5,\"#f7f7f7\"],[0.6,\"#e6f5d0\"],[0.7,\"#b8e186\"],[0.8,\"#7fbc41\"],[0.9,\"#4d9221\"],[1,\"#276419\"]],\"sequential\":[[0.0,\"#0d0887\"],[0.1111111111111111,\"#46039f\"],[0.2222222222222222,\"#7201a8\"],[0.3333333333333333,\"#9c179e\"],[0.4444444444444444,\"#bd3786\"],[0.5555555555555556,\"#d8576b\"],[0.6666666666666666,\"#ed7953\"],[0.7777777777777778,\"#fb9f3a\"],[0.8888888888888888,\"#fdca26\"],[1.0,\"#f0f921\"]],\"sequentialminus\":[[0.0,\"#0d0887\"],[0.1111111111111111,\"#46039f\"],[0.2222222222222222,\"#7201a8\"],[0.3333333333333333,\"#9c179e\"],[0.4444444444444444,\"#bd3786\"],[0.5555555555555556,\"#d8576b\"],[0.6666666666666666,\"#ed7953\"],[0.7777777777777778,\"#fb9f3a\"],[0.8888888888888888,\"#fdca26\"],[1.0,\"#f0f921\"]]},\"colorway\":[\"#636efa\",\"#EF553B\",\"#00cc96\",\"#ab63fa\",\"#FFA15A\",\"#19d3f3\",\"#FF6692\",\"#B6E880\",\"#FF97FF\",\"#FECB52\"],\"font\":{\"color\":\"#2a3f5f\"},\"geo\":{\"bgcolor\":\"white\",\"lakecolor\":\"white\",\"landcolor\":\"#E5ECF6\",\"showlakes\":true,\"showland\":true,\"subunitcolor\":\"white\"},\"hoverlabel\":{\"align\":\"left\"},\"hovermode\":\"closest\",\"mapbox\":{\"style\":\"light\"},\"paper_bgcolor\":\"white\",\"plot_bgcolor\":\"#E5ECF6\",\"polar\":{\"angularaxis\":{\"gridcolor\":\"white\",\"linecolor\":\"white\",\"ticks\":\"\"},\"bgcolor\":\"#E5ECF6\",\"radialaxis\":{\"gridcolor\":\"white\",\"linecolor\":\"white\",\"ticks\":\"\"}},\"scene\":{\"xaxis\":{\"backgroundcolor\":\"#E5ECF6\",\"gridcolor\":\"white\",\"gridwidth\":2,\"linecolor\":\"white\",\"showbackground\":true,\"ticks\":\"\",\"zerolinecolor\":\"white\"},\"yaxis\":{\"backgroundcolor\":\"#E5ECF6\",\"gridcolor\":\"white\",\"gridwidth\":2,\"linecolor\":\"white\",\"showbackground\":true,\"ticks\":\"\",\"zerolinecolor\":\"white\"},\"zaxis\":{\"backgroundcolor\":\"#E5ECF6\",\"gridcolor\":\"white\",\"gridwidth\":2,\"linecolor\":\"white\",\"showbackground\":true,\"ticks\":\"\",\"zerolinecolor\":\"white\"}},\"shapedefaults\":{\"line\":{\"color\":\"#2a3f5f\"}},\"ternary\":{\"aaxis\":{\"gridcolor\":\"white\",\"linecolor\":\"white\",\"ticks\":\"\"},\"baxis\":{\"gridcolor\":\"white\",\"linecolor\":\"white\",\"ticks\":\"\"},\"bgcolor\":\"#E5ECF6\",\"caxis\":{\"gridcolor\":\"white\",\"linecolor\":\"white\",\"ticks\":\"\"}},\"title\":{\"x\":0.05},\"xaxis\":{\"automargin\":true,\"gridcolor\":\"white\",\"linecolor\":\"white\",\"ticks\":\"\",\"title\":{\"standoff\":15},\"zerolinecolor\":\"white\",\"zerolinewidth\":2},\"yaxis\":{\"automargin\":true,\"gridcolor\":\"white\",\"linecolor\":\"white\",\"ticks\":\"\",\"title\":{\"standoff\":15},\"zerolinecolor\":\"white\",\"zerolinewidth\":2}}},\"xaxis\":{\"anchor\":\"y\",\"domain\":[0.0,1.0],\"title\":{\"text\":\"PC 1\"}},\"yaxis\":{\"anchor\":\"x\",\"domain\":[0.0,1.0],\"title\":{\"text\":\"PC 2\"}},\"coloraxis\":{\"colorbar\":{\"title\":{\"text\":\"color\"}},\"colorscale\":[[0.0,\"#0d0887\"],[0.1111111111111111,\"#46039f\"],[0.2222222222222222,\"#7201a8\"],[0.3333333333333333,\"#9c179e\"],[0.4444444444444444,\"#bd3786\"],[0.5555555555555556,\"#d8576b\"],[0.6666666666666666,\"#ed7953\"],[0.7777777777777778,\"#fb9f3a\"],[0.8888888888888888,\"#fdca26\"],[1.0,\"#f0f921\"]]},\"legend\":{\"tracegroupgap\":0},\"margin\":{\"t\":60}},                        {\"responsive\": true}                    ).then(function(){\n",
              "                            \n",
              "var gd = document.getElementById('80949830-8180-4634-bf46-3b4e590464fb');\n",
              "var x = new MutationObserver(function (mutations, observer) {{\n",
              "        var display = window.getComputedStyle(gd).display;\n",
              "        if (!display || display === 'none') {{\n",
              "            console.log([gd, 'removed!']);\n",
              "            Plotly.purge(gd);\n",
              "            observer.disconnect();\n",
              "        }}\n",
              "}});\n",
              "\n",
              "// Listen for the removal of the full notebook cells\n",
              "var notebookContainer = gd.closest('#notebook-container');\n",
              "if (notebookContainer) {{\n",
              "    x.observe(notebookContainer, {childList: true});\n",
              "}}\n",
              "\n",
              "// Listen for the clearing of the current output cell\n",
              "var outputEl = gd.closest('.output');\n",
              "if (outputEl) {{\n",
              "    x.observe(outputEl, {childList: true});\n",
              "}}\n",
              "\n",
              "                        })                };                            </script>        </div>\n",
              "</body>\n",
              "</html>"
            ]
          },
          "metadata": {}
        }
      ],
      "source": [
        "pca.pca_plot2d()"
      ]
    },
    {
      "cell_type": "code",
      "source": [
        "pca.pca_plot3d()"
      ],
      "metadata": {
        "colab": {
          "base_uri": "https://localhost:8080/",
          "height": 542
        },
        "id": "VPTCbCS9EQmg",
        "outputId": "5fd30e6a-889f-4a42-8c4c-6c4dd6c0345a"
      },
      "execution_count": 7,
      "outputs": [
        {
          "output_type": "display_data",
          "data": {
            "text/html": [
              "<html>\n",
              "<head><meta charset=\"utf-8\" /></head>\n",
              "<body>\n",
              "    <div>            <script src=\"https://cdnjs.cloudflare.com/ajax/libs/mathjax/2.7.5/MathJax.js?config=TeX-AMS-MML_SVG\"></script><script type=\"text/javascript\">if (window.MathJax) {MathJax.Hub.Config({SVG: {font: \"STIX-Web\"}});}</script>                <script type=\"text/javascript\">window.PlotlyConfig = {MathJaxConfig: 'local'};</script>\n",
              "        <script src=\"https://cdn.plot.ly/plotly-2.8.3.min.js\"></script>                <div id=\"d13cc5ba-db66-49a9-975d-2cff805fe0dd\" class=\"plotly-graph-div\" style=\"height:525px; width:100%;\"></div>            <script type=\"text/javascript\">                                    window.PLOTLYENV=window.PLOTLYENV || {};                                    if (document.getElementById(\"d13cc5ba-db66-49a9-975d-2cff805fe0dd\")) {                    Plotly.newPlot(                        \"d13cc5ba-db66-49a9-975d-2cff805fe0dd\",                        [{\"hovertemplate\":\"PC 1=%{x}<br>PC 2=%{y}<br>2=%{z}<br>color=%{marker.color}<extra></extra>\",\"legendgroup\":\"\",\"marker\":{\"color\":[0,0,0,0,0,0,0,0,0,0,1,1,1,1,1,1,1,1,1,1,2,2,2,2,2,2,2,2,2,2,3,3,3,3,3,3,3,3,3,3,4,4,4,4,4,4,4,4,4,4,5,5,5,5,5,5,5,5,5,5,6,6,6,6,6,6,6,6,6,6,7,7,7,7,7,7,7,7,7,7,8,8,8,8,8,8,8,8,8,8,9,9,9,9,9,9,9,9,9,9,10,10,10,10,10,10,10,10,10,10,11,11,11,11,11,11,11,11,11,11,12,12,12,12,12,12,12,12,12,12,13,13,13,13,13,13,13,13,13,13,14,14,14,14,14,14,14,14,14,14,15,15,15,15,15,15,15,15,15,15,16,16,16,16,16,16,16,16,16,16,17,17,17,17,17,17,17,17,17,17,18,18,18,18,18,18,18,18,18,18,19,19,19,19,19,19,19,19,19,19,20,20,20,20,20,20,20,20,20,20,21,21,21,21,21,21,21,21,21,21,22,22,22,22,22,22,22,22,22,22,23,23,23,23,23,23,23,23,23,23,24,24,24,24,24,24,24,24,24,24,25,25,25,25,25,25,25,25,25,25,26,26,26,26,26,26,26,26,26,26,27,27,27,27,27,27,27,27,27,27,28,28,28,28,28,28,28,28,28,28,29,29,29,29,29,29,29,29,29,29,30,30,30,30,30,30,30,30,30,30,31,31,31,31,31,31,31,31,31,31,32,32,32,32,32,32,32,32,32,32,33,33,33,33,33,33,33,33,33,33,34,34,34,34,34,34,34,34,34,34,35,35,35,35,35,35,35,35,35,35,36,36,36,36,36,36,36,36,36,36,37,37,37,37,37,37,37,37,37,37,38,38,38,38,38,38,38,38,38,38,39,39,39,39,39,39,39,39,39,39],\"coloraxis\":\"coloraxis\",\"symbol\":\"circle\"},\"mode\":\"markers\",\"name\":\"\",\"scene\":\"scene\",\"showlegend\":false,\"x\":[45.26837974244759,11.860036860023703,39.27399127156962,26.628274361665223,36.239391719656,34.65382475656216,41.81823635518897,42.11779052499333,50.890709316038624,20.02550334153441,4.251428424727059,2.393805324883255,0.4080871969369983,-5.73944273250969,0.06487324578262887,-1.5655175839192206,-8.468449650322025,-4.163753551162573,-6.399723029719546,-0.45025981145856164,-15.203160691519486,-16.059500175873467,-13.796902216082023,-13.653828750842877,-10.053569197236454,9.969228345089014,23.58452271834594,17.500852680866398,26.888430119735727,24.154574179091753,2.17902155477536,-4.667558824293175,-2.5358513934491116,32.35239753556197,24.83844008794253,29.326920246187317,33.54454596297328,3.1879176963885114,-11.767147716276488,14.665915884434309,5.241171489227822,-7.386986383928059,-13.224218299360688,4.205063763634039,28.60235060892611,24.095471794415875,8.720044334680516,14.544750181400135,28.553132654623035,44.0251804530333,34.412167438076885,33.51163732087298,39.38970301883126,73.64441366997474,75.42564872138907,81.19030966264056,76.27990002420151,77.58612197046187,72.82024528296127,75.90358973357797,36.56533404433776,13.689505512711202,40.33964089782238,24.927863982806993,39.32842367149867,39.67885798829392,46.121277159810944,48.301686987098755,47.31965747375495,28.565080115111236,34.41189386750912,23.9592927458808,48.13678275859838,-12.365978100386323,56.120167975367856,59.47343823747534,4.762158900809285,53.66180596567524,58.21775505755482,23.59329913646689,-22.69673562308922,-19.663266615739616,-26.493023558465854,8.307759548783721,7.7817152848326145,6.842453296117769,13.662053970369955,17.143298158946287,3.9472754115684463,9.359384410191659,6.956791340349419,1.8253754843342567,-17.814960086762405,-21.284404558977503,32.90137655699012,24.653669000977676,25.676581217917388,34.39000715880331,31.387191397375943,54.818722720298105,23.011532395953875,25.50401869470271,26.994506708817003,19.616373774525897,22.222066654060647,26.479561373967872,21.307820123061475,18.73219381792633,18.397339330605313,20.825394884860753,32.92071617002653,-15.589136965903275,-12.470148536714587,-14.553267286792082,-16.051734438424248,37.953782741338635,-14.574759707068477,21.378434405549548,28.305097580740068,26.550246831909178,-8.585242703907202,-12.518544734096563,19.396768178338796,7.269636457730931,16.58163511593156,8.53807401004537,10.670389432691286,13.41646835880931,14.683846106543188,16.613240651172568,5.439317478629846,-2.6999749887443176,-2.569914935154606,14.938207975792713,5.19066338191648,-4.137947979226943,4.561952152494987,4.261747229252229,-7.864297364403716,3.4075748964316324,2.7394276720352324,7.322774166072526,6.079920044725506,4.597893718662149,-0.10424360826481616,4.954609973564418,-1.0002374100196616,-3.3692681707183283,-2.2329082161625076,-0.4001346820875913,-12.404386744693666,30.2516924085972,29.71395912774643,49.06211678622032,49.19669602430565,-2.892111249219915,18.50537889228852,27.786022717973772,24.032206794562228,30.151429052267538,14.780263769257855,14.145312744292122,-2.6669258740767883,-5.008842769239554,20.646399878821406,19.673455751234794,18.37599543559397,25.57119340685947,18.48960189636446,4.180355547108979,44.73823129040449,26.127554567386337,31.368410279746406,17.193662687059657,28.35393600830548,46.264737121470255,45.01582655752107,32.492407756366234,48.30627733442344,51.319301329821634,5.318092157795556,5.972287066980885,11.945015698225337,26.534077229632064,27.09264270565123,7.96156701709934,24.777409188721183,28.579644654872766,27.208801174268626,13.980431196734248,-26.553392153737136,-24.7835930784022,-24.311757491252877,2.2131393273085185,27.441441349731242,-0.20165592438790858,27.44951375076098,17.418674339234162,30.566502386908454,-32.721220375837255,-42.437062148310815,-41.61498116095096,-39.94884663480446,-13.091192665393258,-12.42545754126532,-9.539820979918357,-7.948631137530432,-19.34492045157698,-17.375474216555002,-13.45259108901574,-77.28260812578435,-72.23562409316018,-75.15460446671247,-70.53375133814066,-71.12550007222445,-80.97456670417426,-75.84550625960043,-74.74182405564159,-75.52760027721628,-73.10227231466463,39.75826407634834,30.113637303848048,0.5528420634300679,16.736029945237483,-3.0231630532426736,17.55207102238119,6.5207247721584825,29.085706672005404,40.29214501154368,40.98144767829593,-5.7058804736444735,-6.381346557108628,-31.752116146512027,-16.86858455753709,-23.099014107438826,-7.316966731147687,-4.944477016159031,-3.509332317608236,-22.532454961695027,-23.607240902799848,13.937375013979977,-17.404890105863974,15.401172785059366,-0.6048146222533304,0.9868061337218859,-5.564448698001013,16.66006579964594,18.964660540333433,-5.8794454897323645,9.327940449769368,-13.311385987179847,-1.5033951207803509,-5.1170861121004245,-31.620779354861938,-30.366062343817553,1.6770241180385663,41.07958590051734,-5.9260152537191795,4.221666169875887,-4.611509209305507,7.490694914477241,4.6473114676141325,12.16400028393479,9.029635448461981,5.7425698509494145,1.2591027033587838,9.346337493185196,9.214332281193744,-0.4380426589167998,12.11093593585789,9.09953028342086,-1.6077841917425788,14.881555264559791,12.65016039432484,4.169065982975219,7.5012433302238986,3.2592206907723478,3.915914207038479,-10.522302158422978,16.29615237858789,-58.886330560712345,-64.15942404898313,-59.57334828522293,-26.816448985030487,-12.101978874063459,-8.960760520902157,-14.837180892467874,-20.274090234876187,-61.671090772644575,-55.509612330009666,-18.65480178976426,-36.79871407596162,-23.61297064691386,-34.977939573921994,-35.46564663946041,-11.888812730830056,-37.50230302186051,-36.70724517844645,-12.65662944699374,-17.880371675104005,-27.46719681840746,-38.47704248092477,-35.4924528832558,-39.46834038734091,-38.90621804507286,-33.744812972633724,-38.75953510047169,-25.7762320175644,-30.22172575893392,-39.571894226679994,17.462197765171002,11.917190500500721,4.88262403743029,27.23657433809391,8.175551048677182,20.30335993932969,4.007346401105887,22.439222946093107,20.313159898993163,19.978446276603552,-59.19007089519124,-64.40058851262414,-60.6661187866991,-64.11867163606804,-33.33021640660477,-38.3992894924889,-33.53759544213276,-37.52680645079046,-32.63077895261222,-62.80672783738077,-65.78243296161642,-65.69488884777954,-63.21708215576845,-73.01293601401207,-83.93013071448497,-64.86551788983186,-88.72483647854129,-63.31264816837855,-64.01896516881081,-64.41467516135937,-33.27474482850702,-36.20560181225369,-25.897335132773968,-33.12288363782716,11.384341665438795,0.23832131685088642,-3.9036961606009,-0.024228814639633445,11.309683186258852,8.03107277456213,52.30188017274583,3.6207005733262436,4.4451979769991485,10.830960342891057,42.656244391821915,3.2924465638755263,3.7839262847862973,7.792296481509979,19.38350300061621,20.70500701514122,-16.784312228788682,-48.01874747147605,-12.765547562505176,-48.2644108310878,-48.101858918398946,-44.469857407648355,-22.2219535534784,-57.43727055339243,-11.248933314322976,-27.26865447278374,23.27767994853863,-2.024317351756134,-3.0505512520782325,21.511729787413415,-4.974861951095285,17.537544116159996,2.1650791643320555,9.620684839376663,22.163831406116177,-2.1901090625557567,-61.411155951844606,-78.50779564547463,-68.48272546009402,-71.79367814552408,-68.25127672744078,-69.90509285617529,-69.49100290700609,-63.60154941472534,-66.86856106654253,-67.70909207950999,-6.472130519634004,32.81810393153567,30.8515890424676,5.305788346067937,37.26182422916977,-6.387723716932911,38.602656839810074,-10.812110635239002,36.93931703482742,8.682936266738459],\"y\":[2.1739464423886083,41.954910445547,7.277844367909202,-78.67501173769435,18.37684297816899,-44.82692366214274,-3.206001555592701,-30.10170175141084,-15.336950022687178,11.839377214707183,5.545423358773495,18.694974837965603,14.741602912493892,23.266162443549046,10.59054907233432,26.15467760131315,8.648142040146832,15.156892915939846,29.25958503720063,10.075641373487969,16.781331387879575,23.4928585038675,24.401465549085334,-12.593116981493786,-24.0073145877195,-7.0368516044660305,-19.456597861806152,-31.99681076773024,3.8368486757295113,10.30583750012439,-3.4819846446413707,14.603688569135537,-11.677585931870874,5.946871305135945,21.69827456451906,-40.510181600788194,-4.381182140036772,-9.487132269081279,9.08388121976791,33.73024995802554,-3.159292799557122,17.943012405627705,21.215228055726875,-4.425684219046993,-44.28595721620423,-37.924845232474,-9.979619696173293,-24.254676565476835,-28.74164072630031,-23.80621739083943,17.429756579399942,13.340812120144506,13.837249904105365,-8.21498243593237,-20.630075578806334,-6.594715350037827,-26.325594524543465,6.280908546052939,-35.26738411117595,-12.992055399550814,7.95854978040872,7.267816347419807,-9.060456863586621,-19.771646245430126,-17.035246052637724,-1.2026285888803367,13.190146963654993,4.095294530171318,-13.867653810772383,-16.334343983594398,35.79053124236226,47.681590892038585,30.840923252816193,74.2478420414983,29.698643605749982,27.7791566486403,67.54808273195415,24.48355692281396,-37.53266946092867,60.287225699636394,0.5119881099757204,13.021591399646178,1.9023622966564209,-11.830124322035378,-10.443335062768659,-22.059617633599153,-22.07564285267334,-9.860316079602757,-3.370413977190682,3.0882685937213905,7.924293940221795,20.47642160805383,43.41416260617344,43.2430877673541,4.976632576545643,22.507091378677234,29.175339916671174,2.4473748178806085,-45.2851726220598,9.862287652001969,30.148246434988195,22.59245545117919,25.791941120191417,32.862619534902414,32.523832767270406,29.449508805129838,40.00575871698216,38.2835174948457,33.662077379946055,36.13251196265743,-11.895695289857096,-11.53706985912084,-22.764215654583815,8.459211425413946,-5.178289928945881,-29.07192038678497,-0.8477375035861485,10.89611590766599,5.730364826975936,-6.102326214925731,-4.21988104157934,5.762030968532785,-19.388400808933785,-24.673653844402548,-7.196672642995395,24.450414009037154,-46.26146633485691,-31.74128206522379,-0.05610504422038731,-12.578205687408758,16.287907222129824,28.420102314380532,29.913644994261496,8.21191803670214,8.277223254930782,31.888794647968588,4.293534192529425,6.9225651640820285,35.0946387421877,16.183732171991736,12.348716938271755,-5.17513844012233,10.119692907927957,11.649997461189738,-6.226874539797744,11.245274233588471,4.644567620197729,3.9913375186467306,-1.855051901320746,0.6094737982857386,-8.931772724762912,-4.714841342942484,-3.366665434139728,5.595450431816829,6.414827452533367,-7.8925349184595035,19.022053987623625,-28.79928237396318,-7.54736379471421,-1.6225678202838316,-21.79900527158012,-16.838926385844243,19.117947365108236,22.82240134700125,-21.212279808511465,-55.99794995175454,-59.66439549883664,-21.040761372950925,-48.362661743967635,-71.10406818976344,20.27594325200515,11.91466654602614,-12.650301286573606,9.057881877791516,-3.8021181129628383,-9.638099288462191,10.101434205975687,-4.178116290338369,4.715290357436265,-16.915103264803694,2.4460034308152756,6.369144719275291,10.168363435089399,26.380634776256684,28.1995884146809,10.406447897876413,23.18577500927195,26.82608962126192,28.647683885775763,12.088870235381153,16.353952534453242,12.743796978275041,6.5951013616548755,-9.840443265513658,-15.340572837948596,-10.81670804336823,-19.662546857036325,-24.719181532920857,-25.33853792110735,11.75651309000485,-6.814741781477254,-22.594702312930284,-17.123952110149435,-16.54149300870264,-5.629799966386933,-4.553741946028024,-41.01480043177879,-39.97182558972309,-3.7577889956495967,-38.49814956169036,-2.6347063916250866,-7.23455378162763,0.4138853942815604,-5.04538064662183,-4.164959816768087,-13.768236061168812,-1.0523392481998968,0.6056012761684687,-0.6326292878905135,-3.5851558072707954,5.015509309157063,24.197695847773893,10.931017512165864,-7.646298691463317,15.035424285705584,-11.012233265353672,2.6148966262746365,18.33284973845849,-29.05029656108966,-21.55136907604712,-9.817751070056627,-11.122882340103816,-70.46626617442229,-53.852874757638176,25.428084883589893,-24.849258838675823,-17.753373134510532,-15.91272861064709,-57.65295327778071,-59.785642843293054,18.481680801845194,31.411067590778625,14.447820028436675,19.027584038770797,4.915451649224498,29.929016613904246,9.965143956304232,-20.705648588884877,26.659539874172392,25.934649228911297,8.800785256852645,-2.598860936546913,13.617403280258722,26.491579483458644,32.52828033646976,-6.984794266755965,3.4276007431329134,26.861630129148026,3.238847262500163,27.848393992205324,20.331993286537795,24.246089734368677,22.51144092802032,23.004058990417178,26.97950249673858,26.904319891537,21.655724334176945,22.966080519219524,28.154970005453464,20.63906605251243,7.426914517657819,16.39816183716261,-3.768919218504142,11.650531765865985,14.383965024130674,9.410826173912724,14.31216207791494,22.869748063030393,13.223519202586148,-15.374594303911401,-9.665927281472765,1.812294811560977,-22.002517103097148,-16.810353930872086,-32.359751381972586,-18.622975388980432,-18.959392632493184,-51.90456370008614,-22.495355369226534,-9.686247674206802,10.55292169779657,9.665273080706566,20.183544663334253,-4.689331162479068,-4.926577655517078,-4.895987271902318,-2.0519224251783603,-2.813205552643681,-15.34483549241337,5.887617035313968,-24.569506649537843,4.599646972480335,8.285605930149242,7.772606219986152,9.285194273513769,-16.022671461976934,-2.2373267258537526,-24.063427517258912,-10.968065516173352,5.986437252264698,29.148332465953903,24.60363366065002,28.242620144112998,26.498766028630257,31.31662069294703,30.103797006444154,14.623731502984338,21.505051888065445,29.120111742015983,27.748760497205897,-21.744766815127416,-2.1487363116558766,-5.669051893296892,1.0684209046813133,-16.78261838487288,-38.38156614622053,-20.699155363831185,-5.1885910673745474,-27.466378618070937,-1.7439742892667318,7.605733337246987,7.289477267239222,7.703941001709142,-0.4048976903189343,4.228246721677966,7.396532011085513,5.031564969428029,6.879055530602227,6.9462108326404035,6.328975151776002,-1.4882405982011768,9.058197293083648,-19.547842119365825,9.981559300103171,-48.81128830491255,8.657130373888789,17.346331007981068,1.090908385747975,-47.83959661820742,-43.10321569942607,-9.895944893015468,-31.016516015803383,-34.36711169812674,-33.875308031587956,-10.43020365573276,-28.588742233579467,-30.920976261576016,-24.598698879685763,-14.385077804259815,-19.668069949781792,-16.259166157581298,11.80038762154973,-18.96734072554598,12.530155611188782,14.9862851552851,11.570403676156486,-5.042037529505666,12.568085744564208,-17.833752027404227,-19.282737828874442,-23.974937467068408,14.05339310443369,19.24754218853562,11.191499135677017,13.377955359856738,-6.669877055067759,14.549943686723811,25.705042958163535,-21.393538621389755,0.8807800291302221,1.0252653917534833,9.564574430470559,-32.584666193914586,-17.795418743440145,2.51641231530302,-9.532108794299372,7.6495113809716475,7.334775756481189,2.134290087016485,-14.310840323749552,9.897947778735979,-18.388993950486316,-8.390781678422533,-16.576515393958417,-13.34736058651472,4.848501798043727,-40.308661187078755,9.584967258784658,-56.96338995686976,-15.290223610491173],\"z\":[21.81839728509179,-3.1051087509018154,11.940201244393645,0.8720170263033656,-14.750197074388362,9.755327618580528,33.18676846439292,0.2627268969559209,24.17121053208291,-31.923400685613014,29.58271451216788,33.91140502304717,23.400800264024383,26.80228547927722,38.98876564457482,28.31292760647528,12.584486410457604,19.511494377886883,30.051795847646922,18.29728548677177,-23.43730028620538,-11.784538451905131,-7.964250466080344,-11.92669703453997,-7.3277885178656135,-28.460219178239164,-27.195197163839964,-24.37396869929123,-18.221621498000065,-18.217010920979384,0.48790129807293803,6.294577558614065,-0.39097096210423254,-0.7800279548994519,-4.917325007419038,-0.2897245106004591,3.5777003502956775,3.825364723006622,18.252119498578807,3.3945150996662634,-9.012725527706522,-12.555665519852365,-15.212576374329894,-6.456270838173437,-6.334317104857716,-13.449354490164039,0.868932434683813,-18.02389695755023,-11.125719472658215,0.9484254580658549,2.695575624598416,2.9667174310895734,4.568052339045339,4.189900674911359,7.243049083536938,14.609472392229748,11.51914670238779,10.013983600374853,8.73418973650535,5.201183653353523,12.908896089106422,12.027026848356197,8.635934554366674,-1.519443571878544,14.158238402772156,11.871910294204543,15.016735794192233,15.802316330537998,15.232578368364381,22.07514422425379,19.941374575745364,4.59972169279248,1.3337726081382497,1.7531099546942923,4.465192713567303,16.15172048546051,2.721252917969803,-1.8756439483473835,3.2932703003632904,-13.917765666491146,-20.132336342343915,-26.196383787105404,-25.753195054560567,-15.96167325974582,-15.207390717574922,-18.342924229617946,-10.570660622544313,-13.058889295350935,-21.155925612810496,-16.889876160000227,-3.866549056164103,-14.707107348464577,-24.639931459670507,-20.379924238109993,-26.2322076302146,-33.37105265956787,-21.66049617439165,-19.30977411768902,-13.779023337627878,9.321941870088619,16.61071530250655,14.13541039996922,16.998728184799063,26.127418492051863,16.604660525739003,15.456761494285969,20.199600940473154,21.515715003748543,30.24527531985979,15.609153031257247,-25.87461072218267,-31.752159800577886,-25.854410537857863,-18.650151124319795,-30.913589844626184,-17.429990664081043,-29.963921577450048,-36.240971878971465,-29.599513010527303,-32.47022714494639,-3.042232053519592,-1.0737134923021336,7.223650582937168,-2.101044636908066,0.05077481884416302,3.069366774486694,-5.429838307900397,-9.186390376323487,-5.423953480721125,0.6020710431274994,-8.377726618680743,-12.391392539737232,-15.809356652667864,-7.33483905357487,-14.473474265740393,-10.31089244478205,-13.357425464519748,-12.667044556591362,-7.924236696720211,-17.03699614033096,31.018621105270984,7.554015834566269,29.506012154830536,26.99443770768024,4.212341395416988,32.170667182001786,6.523995180801263,15.854284508460827,3.7188815508913553,-0.6903113680783406,38.16284511826137,24.662719391948784,16.748423891027738,3.16118292588055,7.388845615642527,44.24431306655817,22.745298875653354,24.327607021935727,31.37452133843824,16.00071907002844,-21.67127887248914,-26.295993856210714,-24.218803384494525,-25.727478724464348,-13.060407255786844,-0.23991019500042693,2.8125393311760427,-9.249525843559447,-5.913989096490919,-6.102229447264369,2.234397588810052,3.053821435316728,1.7615974462857893,-4.237611759329003,4.195890319821823,-5.418558730872455,2.679232267350061,2.9468048493010337,-2.568430167956863,3.2007327246116617,-8.270414115610981,-7.415025585610908,-2.0027298839715204,11.498491674831898,11.535538536312774,-2.14497574429584,13.488787117542174,18.392909549393885,18.472855173803218,6.2348470588898035,12.058097912838264,13.056231670239958,11.544163383303037,4.048426989265732,1.8422408840794555,7.617361929476818,1.1895173711371911,-2.134778018031858,-2.5366939448993313,13.105300883278503,-5.3291190605029986,-3.3906429899403068,0.3730284418991042,-8.192260948845743,-6.224396643994353,-4.590813636947844,-6.171298370618888,1.9262356324604233,0.692487429895817,-6.261032960157943,-1.3377325639904956,-0.3886242016499746,-3.347903013313081,9.61351438949033,0.506809858352482,1.4503096922584175,-2.324095545379891,-0.822146838527404,1.616607172236268,1.0324411734763785,-9.202706852471009,-11.660549437369214,-20.518354543551332,-6.412620887197817,-19.326936970939315,-9.521015692282523,-18.22874660029123,-11.894752203313919,-1.7355827796616794,-9.507124779677225,43.511593172251025,41.472432743249385,28.177104582930117,27.3748823209625,26.82768958740159,36.4104792133192,40.42546150122337,42.34756340772818,29.24168516581972,27.616442929748626,-16.813742895972535,0.399397663568608,-14.683409328021845,3.4763510544585676,-7.1870393178867475,-2.9386478955569104,-16.97779827239829,-10.98449908980876,-7.257179256481688,-16.31485144279692,-38.9526907128356,-31.865516923971725,-22.492633047097513,-31.91014457656002,-22.044042433904988,-33.67507204331499,-7.304845595018505,-25.12260870601338,-36.80901871470268,-15.585579900991938,-1.1703552398083754,-4.767170278124747,0.4672959225041537,-2.944568190840241,8.599629240139473,-2.6457236053287354,-8.633821089146213,1.334856330455575,-3.0145712640488167,3.9520987013461633,-3.118550183098175,-9.545692146197823,4.414108540011703,12.321335121099075,-0.41326009227023164,-2.1884705656935517,-0.6225082354624547,-1.211346749145792,-14.038918701130937,0.7614826648170612,3.0486567773530835,-1.3337388172226459,5.586725302770437,-12.670390557867377,-2.6614011842925853,-1.2883804612438292,-7.40898855674241,-4.4807275772726705,9.68541805338925,4.825377615764312,-3.55398516762238,8.27944031658008,-1.727503194413336,9.18466139150281,7.89551164826459,-2.727166410190462,8.24111325166382,8.73011825012633,-2.0898689403717787,-4.140010973368595,-11.750548397250506,29.322574218260144,31.597826762867093,27.631247092017322,32.433251926799386,-14.89322463963201,-10.824223081938753,-10.668827463859325,-13.783822689328959,34.69434034647705,22.558369873311158,5.366208442010571,1.4648682469913052,29.661620129117303,5.673034154022281,29.04979206505103,19.92373007375981,20.427470497499584,21.88832193844621,19.747069795323924,15.009080851303354,16.52412345225427,14.884955130046764,13.600911307579036,4.4258302811372605,7.576864470972355,9.06534458623727,10.4610531204202,3.4666339567932543,18.087593259071568,25.38836373588654,25.837115064909852,22.3692389886329,12.558661141347207,12.219042629018004,25.242080018086742,14.499769476193082,23.014548041039692,22.475781465034462,20.766650711508618,-5.981980502232508,-3.4998788187428387,-6.025165321398247,-7.911287978324964,-13.001900268605102,-18.254694659958197,-13.526655517457177,-19.416966464524815,-8.641233095884253,-16.957648555892337,26.139376659007215,30.248461352616687,13.694220321275191,14.115990801305589,30.93895714561055,34.9849905375357,36.61381018180542,19.32921205839283,23.64051419950336,14.964955517719243,-46.19604239411325,-26.40213955033375,-41.37737517920733,-28.759579199757724,-26.95896012056653,-29.755650954179277,-47.88061822405117,-32.5275148966951,-43.531758951542265,-50.21408092236281,-20.28719932860078,-25.830430007704436,-23.681107194762518,-17.217157598179565,-25.9775869125189,-24.64403104230827,-20.72632350265675,-23.362855604827494,-21.78181321972438,-25.652582239491544,2.40712750736607,7.225773585273489,7.441312057227691,7.388552606318768,1.677175011970333,9.89182461759879,-1.8548543018446892,-0.016544258274946877,0.05152184907568236,4.879246771014002,-21.628214489059335,-11.459006281863676,-14.323321591811142,-8.300251535376457,-10.914314383753176,-20.54164025841227,0.9288539583808086,-24.194945958482556,5.209196310241378,-9.251337236484694],\"type\":\"scatter3d\"}],                        {\"template\":{\"data\":{\"bar\":[{\"error_x\":{\"color\":\"#2a3f5f\"},\"error_y\":{\"color\":\"#2a3f5f\"},\"marker\":{\"line\":{\"color\":\"#E5ECF6\",\"width\":0.5},\"pattern\":{\"fillmode\":\"overlay\",\"size\":10,\"solidity\":0.2}},\"type\":\"bar\"}],\"barpolar\":[{\"marker\":{\"line\":{\"color\":\"#E5ECF6\",\"width\":0.5},\"pattern\":{\"fillmode\":\"overlay\",\"size\":10,\"solidity\":0.2}},\"type\":\"barpolar\"}],\"carpet\":[{\"aaxis\":{\"endlinecolor\":\"#2a3f5f\",\"gridcolor\":\"white\",\"linecolor\":\"white\",\"minorgridcolor\":\"white\",\"startlinecolor\":\"#2a3f5f\"},\"baxis\":{\"endlinecolor\":\"#2a3f5f\",\"gridcolor\":\"white\",\"linecolor\":\"white\",\"minorgridcolor\":\"white\",\"startlinecolor\":\"#2a3f5f\"},\"type\":\"carpet\"}],\"choropleth\":[{\"colorbar\":{\"outlinewidth\":0,\"ticks\":\"\"},\"type\":\"choropleth\"}],\"contour\":[{\"colorbar\":{\"outlinewidth\":0,\"ticks\":\"\"},\"colorscale\":[[0.0,\"#0d0887\"],[0.1111111111111111,\"#46039f\"],[0.2222222222222222,\"#7201a8\"],[0.3333333333333333,\"#9c179e\"],[0.4444444444444444,\"#bd3786\"],[0.5555555555555556,\"#d8576b\"],[0.6666666666666666,\"#ed7953\"],[0.7777777777777778,\"#fb9f3a\"],[0.8888888888888888,\"#fdca26\"],[1.0,\"#f0f921\"]],\"type\":\"contour\"}],\"contourcarpet\":[{\"colorbar\":{\"outlinewidth\":0,\"ticks\":\"\"},\"type\":\"contourcarpet\"}],\"heatmap\":[{\"colorbar\":{\"outlinewidth\":0,\"ticks\":\"\"},\"colorscale\":[[0.0,\"#0d0887\"],[0.1111111111111111,\"#46039f\"],[0.2222222222222222,\"#7201a8\"],[0.3333333333333333,\"#9c179e\"],[0.4444444444444444,\"#bd3786\"],[0.5555555555555556,\"#d8576b\"],[0.6666666666666666,\"#ed7953\"],[0.7777777777777778,\"#fb9f3a\"],[0.8888888888888888,\"#fdca26\"],[1.0,\"#f0f921\"]],\"type\":\"heatmap\"}],\"heatmapgl\":[{\"colorbar\":{\"outlinewidth\":0,\"ticks\":\"\"},\"colorscale\":[[0.0,\"#0d0887\"],[0.1111111111111111,\"#46039f\"],[0.2222222222222222,\"#7201a8\"],[0.3333333333333333,\"#9c179e\"],[0.4444444444444444,\"#bd3786\"],[0.5555555555555556,\"#d8576b\"],[0.6666666666666666,\"#ed7953\"],[0.7777777777777778,\"#fb9f3a\"],[0.8888888888888888,\"#fdca26\"],[1.0,\"#f0f921\"]],\"type\":\"heatmapgl\"}],\"histogram\":[{\"marker\":{\"pattern\":{\"fillmode\":\"overlay\",\"size\":10,\"solidity\":0.2}},\"type\":\"histogram\"}],\"histogram2d\":[{\"colorbar\":{\"outlinewidth\":0,\"ticks\":\"\"},\"colorscale\":[[0.0,\"#0d0887\"],[0.1111111111111111,\"#46039f\"],[0.2222222222222222,\"#7201a8\"],[0.3333333333333333,\"#9c179e\"],[0.4444444444444444,\"#bd3786\"],[0.5555555555555556,\"#d8576b\"],[0.6666666666666666,\"#ed7953\"],[0.7777777777777778,\"#fb9f3a\"],[0.8888888888888888,\"#fdca26\"],[1.0,\"#f0f921\"]],\"type\":\"histogram2d\"}],\"histogram2dcontour\":[{\"colorbar\":{\"outlinewidth\":0,\"ticks\":\"\"},\"colorscale\":[[0.0,\"#0d0887\"],[0.1111111111111111,\"#46039f\"],[0.2222222222222222,\"#7201a8\"],[0.3333333333333333,\"#9c179e\"],[0.4444444444444444,\"#bd3786\"],[0.5555555555555556,\"#d8576b\"],[0.6666666666666666,\"#ed7953\"],[0.7777777777777778,\"#fb9f3a\"],[0.8888888888888888,\"#fdca26\"],[1.0,\"#f0f921\"]],\"type\":\"histogram2dcontour\"}],\"mesh3d\":[{\"colorbar\":{\"outlinewidth\":0,\"ticks\":\"\"},\"type\":\"mesh3d\"}],\"parcoords\":[{\"line\":{\"colorbar\":{\"outlinewidth\":0,\"ticks\":\"\"}},\"type\":\"parcoords\"}],\"pie\":[{\"automargin\":true,\"type\":\"pie\"}],\"scatter\":[{\"marker\":{\"colorbar\":{\"outlinewidth\":0,\"ticks\":\"\"}},\"type\":\"scatter\"}],\"scatter3d\":[{\"line\":{\"colorbar\":{\"outlinewidth\":0,\"ticks\":\"\"}},\"marker\":{\"colorbar\":{\"outlinewidth\":0,\"ticks\":\"\"}},\"type\":\"scatter3d\"}],\"scattercarpet\":[{\"marker\":{\"colorbar\":{\"outlinewidth\":0,\"ticks\":\"\"}},\"type\":\"scattercarpet\"}],\"scattergeo\":[{\"marker\":{\"colorbar\":{\"outlinewidth\":0,\"ticks\":\"\"}},\"type\":\"scattergeo\"}],\"scattergl\":[{\"marker\":{\"colorbar\":{\"outlinewidth\":0,\"ticks\":\"\"}},\"type\":\"scattergl\"}],\"scattermapbox\":[{\"marker\":{\"colorbar\":{\"outlinewidth\":0,\"ticks\":\"\"}},\"type\":\"scattermapbox\"}],\"scatterpolar\":[{\"marker\":{\"colorbar\":{\"outlinewidth\":0,\"ticks\":\"\"}},\"type\":\"scatterpolar\"}],\"scatterpolargl\":[{\"marker\":{\"colorbar\":{\"outlinewidth\":0,\"ticks\":\"\"}},\"type\":\"scatterpolargl\"}],\"scatterternary\":[{\"marker\":{\"colorbar\":{\"outlinewidth\":0,\"ticks\":\"\"}},\"type\":\"scatterternary\"}],\"surface\":[{\"colorbar\":{\"outlinewidth\":0,\"ticks\":\"\"},\"colorscale\":[[0.0,\"#0d0887\"],[0.1111111111111111,\"#46039f\"],[0.2222222222222222,\"#7201a8\"],[0.3333333333333333,\"#9c179e\"],[0.4444444444444444,\"#bd3786\"],[0.5555555555555556,\"#d8576b\"],[0.6666666666666666,\"#ed7953\"],[0.7777777777777778,\"#fb9f3a\"],[0.8888888888888888,\"#fdca26\"],[1.0,\"#f0f921\"]],\"type\":\"surface\"}],\"table\":[{\"cells\":{\"fill\":{\"color\":\"#EBF0F8\"},\"line\":{\"color\":\"white\"}},\"header\":{\"fill\":{\"color\":\"#C8D4E3\"},\"line\":{\"color\":\"white\"}},\"type\":\"table\"}]},\"layout\":{\"annotationdefaults\":{\"arrowcolor\":\"#2a3f5f\",\"arrowhead\":0,\"arrowwidth\":1},\"autotypenumbers\":\"strict\",\"coloraxis\":{\"colorbar\":{\"outlinewidth\":0,\"ticks\":\"\"}},\"colorscale\":{\"diverging\":[[0,\"#8e0152\"],[0.1,\"#c51b7d\"],[0.2,\"#de77ae\"],[0.3,\"#f1b6da\"],[0.4,\"#fde0ef\"],[0.5,\"#f7f7f7\"],[0.6,\"#e6f5d0\"],[0.7,\"#b8e186\"],[0.8,\"#7fbc41\"],[0.9,\"#4d9221\"],[1,\"#276419\"]],\"sequential\":[[0.0,\"#0d0887\"],[0.1111111111111111,\"#46039f\"],[0.2222222222222222,\"#7201a8\"],[0.3333333333333333,\"#9c179e\"],[0.4444444444444444,\"#bd3786\"],[0.5555555555555556,\"#d8576b\"],[0.6666666666666666,\"#ed7953\"],[0.7777777777777778,\"#fb9f3a\"],[0.8888888888888888,\"#fdca26\"],[1.0,\"#f0f921\"]],\"sequentialminus\":[[0.0,\"#0d0887\"],[0.1111111111111111,\"#46039f\"],[0.2222222222222222,\"#7201a8\"],[0.3333333333333333,\"#9c179e\"],[0.4444444444444444,\"#bd3786\"],[0.5555555555555556,\"#d8576b\"],[0.6666666666666666,\"#ed7953\"],[0.7777777777777778,\"#fb9f3a\"],[0.8888888888888888,\"#fdca26\"],[1.0,\"#f0f921\"]]},\"colorway\":[\"#636efa\",\"#EF553B\",\"#00cc96\",\"#ab63fa\",\"#FFA15A\",\"#19d3f3\",\"#FF6692\",\"#B6E880\",\"#FF97FF\",\"#FECB52\"],\"font\":{\"color\":\"#2a3f5f\"},\"geo\":{\"bgcolor\":\"white\",\"lakecolor\":\"white\",\"landcolor\":\"#E5ECF6\",\"showlakes\":true,\"showland\":true,\"subunitcolor\":\"white\"},\"hoverlabel\":{\"align\":\"left\"},\"hovermode\":\"closest\",\"mapbox\":{\"style\":\"light\"},\"paper_bgcolor\":\"white\",\"plot_bgcolor\":\"#E5ECF6\",\"polar\":{\"angularaxis\":{\"gridcolor\":\"white\",\"linecolor\":\"white\",\"ticks\":\"\"},\"bgcolor\":\"#E5ECF6\",\"radialaxis\":{\"gridcolor\":\"white\",\"linecolor\":\"white\",\"ticks\":\"\"}},\"scene\":{\"xaxis\":{\"backgroundcolor\":\"#E5ECF6\",\"gridcolor\":\"white\",\"gridwidth\":2,\"linecolor\":\"white\",\"showbackground\":true,\"ticks\":\"\",\"zerolinecolor\":\"white\"},\"yaxis\":{\"backgroundcolor\":\"#E5ECF6\",\"gridcolor\":\"white\",\"gridwidth\":2,\"linecolor\":\"white\",\"showbackground\":true,\"ticks\":\"\",\"zerolinecolor\":\"white\"},\"zaxis\":{\"backgroundcolor\":\"#E5ECF6\",\"gridcolor\":\"white\",\"gridwidth\":2,\"linecolor\":\"white\",\"showbackground\":true,\"ticks\":\"\",\"zerolinecolor\":\"white\"}},\"shapedefaults\":{\"line\":{\"color\":\"#2a3f5f\"}},\"ternary\":{\"aaxis\":{\"gridcolor\":\"white\",\"linecolor\":\"white\",\"ticks\":\"\"},\"baxis\":{\"gridcolor\":\"white\",\"linecolor\":\"white\",\"ticks\":\"\"},\"bgcolor\":\"#E5ECF6\",\"caxis\":{\"gridcolor\":\"white\",\"linecolor\":\"white\",\"ticks\":\"\"}},\"title\":{\"x\":0.05},\"xaxis\":{\"automargin\":true,\"gridcolor\":\"white\",\"linecolor\":\"white\",\"ticks\":\"\",\"title\":{\"standoff\":15},\"zerolinecolor\":\"white\",\"zerolinewidth\":2},\"yaxis\":{\"automargin\":true,\"gridcolor\":\"white\",\"linecolor\":\"white\",\"ticks\":\"\",\"title\":{\"standoff\":15},\"zerolinecolor\":\"white\",\"zerolinewidth\":2}}},\"scene\":{\"domain\":{\"x\":[0.0,1.0],\"y\":[0.0,1.0]},\"xaxis\":{\"title\":{\"text\":\"PC 1\"}},\"yaxis\":{\"title\":{\"text\":\"PC 2\"}},\"zaxis\":{\"title\":{\"text\":\"2\"}}},\"coloraxis\":{\"colorbar\":{\"title\":{\"text\":\"color\"}},\"colorscale\":[[0.0,\"#0d0887\"],[0.1111111111111111,\"#46039f\"],[0.2222222222222222,\"#7201a8\"],[0.3333333333333333,\"#9c179e\"],[0.4444444444444444,\"#bd3786\"],[0.5555555555555556,\"#d8576b\"],[0.6666666666666666,\"#ed7953\"],[0.7777777777777778,\"#fb9f3a\"],[0.8888888888888888,\"#fdca26\"],[1.0,\"#f0f921\"]]},\"legend\":{\"tracegroupgap\":0},\"margin\":{\"t\":60}},                        {\"responsive\": true}                    ).then(function(){\n",
              "                            \n",
              "var gd = document.getElementById('d13cc5ba-db66-49a9-975d-2cff805fe0dd');\n",
              "var x = new MutationObserver(function (mutations, observer) {{\n",
              "        var display = window.getComputedStyle(gd).display;\n",
              "        if (!display || display === 'none') {{\n",
              "            console.log([gd, 'removed!']);\n",
              "            Plotly.purge(gd);\n",
              "            observer.disconnect();\n",
              "        }}\n",
              "}});\n",
              "\n",
              "// Listen for the removal of the full notebook cells\n",
              "var notebookContainer = gd.closest('#notebook-container');\n",
              "if (notebookContainer) {{\n",
              "    x.observe(notebookContainer, {childList: true});\n",
              "}}\n",
              "\n",
              "// Listen for the clearing of the current output cell\n",
              "var outputEl = gd.closest('.output');\n",
              "if (outputEl) {{\n",
              "    x.observe(outputEl, {childList: true});\n",
              "}}\n",
              "\n",
              "                        })                };                            </script>        </div>\n",
              "</body>\n",
              "</html>"
            ]
          },
          "metadata": {}
        }
      ]
    }
  ],
  "metadata": {
    "kernelspec": {
      "display_name": "Python 3 (ipykernel)",
      "language": "python",
      "name": "python3"
    },
    "language_info": {
      "codemirror_mode": {
        "name": "ipython",
        "version": 3
      },
      "file_extension": ".py",
      "mimetype": "text/x-python",
      "name": "python",
      "nbconvert_exporter": "python",
      "pygments_lexer": "ipython3",
      "version": "3.9.12"
    },
    "vscode": {
      "interpreter": {
        "hash": "43e253d5ef50d107c306efdb0a9f5d207c6c75c020a0596eb77ce479bcf3ec80"
      }
    },
    "colab": {
      "provenance": []
    }
  },
  "nbformat": 4,
  "nbformat_minor": 0
}